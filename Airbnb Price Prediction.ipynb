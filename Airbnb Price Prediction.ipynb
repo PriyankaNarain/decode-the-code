{
 "cells": [
  {
   "cell_type": "markdown",
   "metadata": {},
   "source": [
    "# Regression"
   ]
  },
  {
   "cell_type": "markdown",
   "metadata": {},
   "source": [
    "# AIRBNB Price Prediction in NYC"
   ]
  },
  {
   "cell_type": "markdown",
   "metadata": {},
   "source": [
    "In this project we take data of Airbnb listings in the NYC,US and try to predict the price of stay in that listing.\n",
    "\n",
    "The data includes 4852 listings and 29 columns - including log_price, what we are trying to predict."
   ]
  },
  {
   "cell_type": "code",
   "execution_count": 1,
   "metadata": {
    "scrolled": true
   },
   "outputs": [],
   "source": [
    "import numpy as np\n",
    "import pandas as pd\n",
    "import seaborn as sns\n",
    "from sklearn.model_selection import train_test_split,cross_val_score\n",
    "from sklearn import preprocessing\n",
    "from sklearn.preprocessing import MinMaxScaler\n",
    "from sklearn.preprocessing import StandardScaler\n",
    "from sklearn import preprocessing\n",
    "import matplotlib.pyplot as plt\n",
    "%matplotlib inline\n",
    "from sklearn.model_selection import GridSearchCV\n",
    "from sklearn.metrics import mean_squared_error\n",
    "from sklearn.metrics import r2_score\n",
    "from sklearn.svm import LinearSVR\n",
    "from sklearn.svm import SVR\n",
    "import warnings\n",
    "warnings.filterwarnings('ignore')"
   ]
  },
  {
   "cell_type": "code",
   "execution_count": 2,
   "metadata": {},
   "outputs": [],
   "source": [
    "NYC_data = pd.read_csv('NYC_AirBNB.csv')"
   ]
  },
  {
   "cell_type": "code",
   "execution_count": 3,
   "metadata": {},
   "outputs": [
    {
     "name": "stdout",
     "output_type": "stream",
     "text": [
      "<class 'pandas.core.frame.DataFrame'>\n",
      "RangeIndex: 4852 entries, 0 to 4851\n",
      "Data columns (total 30 columns):\n",
      "Unnamed: 0                4852 non-null int64\n",
      "id                        4852 non-null int64\n",
      "log_price                 4852 non-null float64\n",
      "property_type             4852 non-null object\n",
      "room_type                 4852 non-null object\n",
      "amenities                 4852 non-null object\n",
      "accommodates              4852 non-null int64\n",
      "bathrooms                 4838 non-null float64\n",
      "bed_type                  4852 non-null object\n",
      "cancellation_policy       4852 non-null object\n",
      "cleaning_fee              4852 non-null object\n",
      "city                      4852 non-null object\n",
      "description               4852 non-null object\n",
      "first_review              3833 non-null object\n",
      "host_has_profile_pic      4814 non-null object\n",
      "host_identity_verified    4814 non-null object\n",
      "host_response_rate        3348 non-null object\n",
      "host_since                4814 non-null object\n",
      "instant_bookable          4852 non-null object\n",
      "last_review               3837 non-null object\n",
      "latitude                  4852 non-null float64\n",
      "longitude                 4852 non-null float64\n",
      "name                      4852 non-null object\n",
      "neighbourhood             4852 non-null object\n",
      "number_of_reviews         4852 non-null int64\n",
      "review_scores_rating      3759 non-null float64\n",
      "thumbnail_url             4494 non-null object\n",
      "zipcode                   4789 non-null object\n",
      "bedrooms                  4850 non-null float64\n",
      "beds                      4840 non-null float64\n",
      "dtypes: float64(7), int64(4), object(19)\n",
      "memory usage: 1.1+ MB\n"
     ]
    }
   ],
   "source": [
    "NYC_data.info()"
   ]
  },
  {
   "cell_type": "code",
   "execution_count": 4,
   "metadata": {},
   "outputs": [
    {
     "data": {
      "text/html": [
       "<div>\n",
       "<style scoped>\n",
       "    .dataframe tbody tr th:only-of-type {\n",
       "        vertical-align: middle;\n",
       "    }\n",
       "\n",
       "    .dataframe tbody tr th {\n",
       "        vertical-align: top;\n",
       "    }\n",
       "\n",
       "    .dataframe thead th {\n",
       "        text-align: right;\n",
       "    }\n",
       "</style>\n",
       "<table border=\"1\" class=\"dataframe\">\n",
       "  <thead>\n",
       "    <tr style=\"text-align: right;\">\n",
       "      <th></th>\n",
       "      <th>Unnamed: 0</th>\n",
       "      <th>id</th>\n",
       "      <th>log_price</th>\n",
       "      <th>property_type</th>\n",
       "      <th>room_type</th>\n",
       "      <th>amenities</th>\n",
       "      <th>accommodates</th>\n",
       "      <th>bathrooms</th>\n",
       "      <th>bed_type</th>\n",
       "      <th>cancellation_policy</th>\n",
       "      <th>...</th>\n",
       "      <th>latitude</th>\n",
       "      <th>longitude</th>\n",
       "      <th>name</th>\n",
       "      <th>neighbourhood</th>\n",
       "      <th>number_of_reviews</th>\n",
       "      <th>review_scores_rating</th>\n",
       "      <th>thumbnail_url</th>\n",
       "      <th>zipcode</th>\n",
       "      <th>bedrooms</th>\n",
       "      <th>beds</th>\n",
       "    </tr>\n",
       "  </thead>\n",
       "  <tbody>\n",
       "    <tr>\n",
       "      <th>0</th>\n",
       "      <td>16553</td>\n",
       "      <td>44472</td>\n",
       "      <td>4.382027</td>\n",
       "      <td>Condominium</td>\n",
       "      <td>Private room</td>\n",
       "      <td>{TV,\"Cable TV\",Internet,\"Wireless Internet\",\"A...</td>\n",
       "      <td>1</td>\n",
       "      <td>1.0</td>\n",
       "      <td>Real Bed</td>\n",
       "      <td>flexible</td>\n",
       "      <td>...</td>\n",
       "      <td>40.762239</td>\n",
       "      <td>-73.981589</td>\n",
       "      <td>Luxury  bedroom in Times Square</td>\n",
       "      <td>Times Square/Theatre District</td>\n",
       "      <td>1</td>\n",
       "      <td>NaN</td>\n",
       "      <td>https://a0.muscache.com/im/pictures/101584608/...</td>\n",
       "      <td>10019</td>\n",
       "      <td>1.0</td>\n",
       "      <td>1.0</td>\n",
       "    </tr>\n",
       "    <tr>\n",
       "      <th>1</th>\n",
       "      <td>12555</td>\n",
       "      <td>7007348</td>\n",
       "      <td>5.075174</td>\n",
       "      <td>Apartment</td>\n",
       "      <td>Entire home/apt</td>\n",
       "      <td>{TV,Internet,\"Wireless Internet\",\"Air conditio...</td>\n",
       "      <td>3</td>\n",
       "      <td>1.0</td>\n",
       "      <td>Real Bed</td>\n",
       "      <td>strict</td>\n",
       "      <td>...</td>\n",
       "      <td>40.677892</td>\n",
       "      <td>-73.992054</td>\n",
       "      <td>Stylish and bright one bedroom</td>\n",
       "      <td>Gowanus</td>\n",
       "      <td>17</td>\n",
       "      <td>98.0</td>\n",
       "      <td>https://a0.muscache.com/im/pictures/cc7d769d-9...</td>\n",
       "      <td>11231</td>\n",
       "      <td>1.0</td>\n",
       "      <td>2.0</td>\n",
       "    </tr>\n",
       "    <tr>\n",
       "      <th>2</th>\n",
       "      <td>15012</td>\n",
       "      <td>10283574</td>\n",
       "      <td>4.852030</td>\n",
       "      <td>Apartment</td>\n",
       "      <td>Entire home/apt</td>\n",
       "      <td>{\"Wireless Internet\",\"Air conditioning\",Kitche...</td>\n",
       "      <td>2</td>\n",
       "      <td>1.0</td>\n",
       "      <td>Real Bed</td>\n",
       "      <td>moderate</td>\n",
       "      <td>...</td>\n",
       "      <td>40.741380</td>\n",
       "      <td>-73.998753</td>\n",
       "      <td>Sunny Chelsea Studio</td>\n",
       "      <td>Chelsea</td>\n",
       "      <td>6</td>\n",
       "      <td>93.0</td>\n",
       "      <td>https://a0.muscache.com/im/pictures/2a690ce6-2...</td>\n",
       "      <td>NaN</td>\n",
       "      <td>0.0</td>\n",
       "      <td>2.0</td>\n",
       "    </tr>\n",
       "    <tr>\n",
       "      <th>3</th>\n",
       "      <td>21502</td>\n",
       "      <td>1754527</td>\n",
       "      <td>5.010635</td>\n",
       "      <td>Apartment</td>\n",
       "      <td>Entire home/apt</td>\n",
       "      <td>{TV,Internet,\"Wireless Internet\",\"Air conditio...</td>\n",
       "      <td>4</td>\n",
       "      <td>1.0</td>\n",
       "      <td>Real Bed</td>\n",
       "      <td>strict</td>\n",
       "      <td>...</td>\n",
       "      <td>40.800331</td>\n",
       "      <td>-73.965090</td>\n",
       "      <td>BEAUTIFUL 1BR APT ON THE UPPER WEST</td>\n",
       "      <td>Upper West Side</td>\n",
       "      <td>49</td>\n",
       "      <td>96.0</td>\n",
       "      <td>NaN</td>\n",
       "      <td>10025</td>\n",
       "      <td>1.0</td>\n",
       "      <td>2.0</td>\n",
       "    </tr>\n",
       "    <tr>\n",
       "      <th>4</th>\n",
       "      <td>13431</td>\n",
       "      <td>16823953</td>\n",
       "      <td>4.317488</td>\n",
       "      <td>Apartment</td>\n",
       "      <td>Private room</td>\n",
       "      <td>{TV,\"Wireless Internet\",\"Air conditioning\",Kit...</td>\n",
       "      <td>2</td>\n",
       "      <td>1.0</td>\n",
       "      <td>Real Bed</td>\n",
       "      <td>flexible</td>\n",
       "      <td>...</td>\n",
       "      <td>40.711386</td>\n",
       "      <td>-73.963529</td>\n",
       "      <td>1st floor room in the heart of Williamsburg</td>\n",
       "      <td>Williamsburg</td>\n",
       "      <td>0</td>\n",
       "      <td>NaN</td>\n",
       "      <td>https://a0.muscache.com/im/pictures/bc456a57-b...</td>\n",
       "      <td>11249</td>\n",
       "      <td>1.0</td>\n",
       "      <td>1.0</td>\n",
       "    </tr>\n",
       "  </tbody>\n",
       "</table>\n",
       "<p>5 rows × 30 columns</p>\n",
       "</div>"
      ],
      "text/plain": [
       "   Unnamed: 0        id  log_price property_type        room_type  \\\n",
       "0       16553     44472   4.382027   Condominium     Private room   \n",
       "1       12555   7007348   5.075174     Apartment  Entire home/apt   \n",
       "2       15012  10283574   4.852030     Apartment  Entire home/apt   \n",
       "3       21502   1754527   5.010635     Apartment  Entire home/apt   \n",
       "4       13431  16823953   4.317488     Apartment     Private room   \n",
       "\n",
       "                                           amenities  accommodates  bathrooms  \\\n",
       "0  {TV,\"Cable TV\",Internet,\"Wireless Internet\",\"A...             1        1.0   \n",
       "1  {TV,Internet,\"Wireless Internet\",\"Air conditio...             3        1.0   \n",
       "2  {\"Wireless Internet\",\"Air conditioning\",Kitche...             2        1.0   \n",
       "3  {TV,Internet,\"Wireless Internet\",\"Air conditio...             4        1.0   \n",
       "4  {TV,\"Wireless Internet\",\"Air conditioning\",Kit...             2        1.0   \n",
       "\n",
       "   bed_type cancellation_policy  ...   latitude  longitude  \\\n",
       "0  Real Bed            flexible  ...  40.762239 -73.981589   \n",
       "1  Real Bed              strict  ...  40.677892 -73.992054   \n",
       "2  Real Bed            moderate  ...  40.741380 -73.998753   \n",
       "3  Real Bed              strict  ...  40.800331 -73.965090   \n",
       "4  Real Bed            flexible  ...  40.711386 -73.963529   \n",
       "\n",
       "                                          name                  neighbourhood  \\\n",
       "0              Luxury  bedroom in Times Square  Times Square/Theatre District   \n",
       "1               Stylish and bright one bedroom                        Gowanus   \n",
       "2                         Sunny Chelsea Studio                        Chelsea   \n",
       "3          BEAUTIFUL 1BR APT ON THE UPPER WEST                Upper West Side   \n",
       "4  1st floor room in the heart of Williamsburg                   Williamsburg   \n",
       "\n",
       "  number_of_reviews review_scores_rating  \\\n",
       "0                 1                  NaN   \n",
       "1                17                 98.0   \n",
       "2                 6                 93.0   \n",
       "3                49                 96.0   \n",
       "4                 0                  NaN   \n",
       "\n",
       "                                       thumbnail_url zipcode bedrooms beds  \n",
       "0  https://a0.muscache.com/im/pictures/101584608/...   10019      1.0  1.0  \n",
       "1  https://a0.muscache.com/im/pictures/cc7d769d-9...   11231      1.0  2.0  \n",
       "2  https://a0.muscache.com/im/pictures/2a690ce6-2...     NaN      0.0  2.0  \n",
       "3                                                NaN   10025      1.0  2.0  \n",
       "4  https://a0.muscache.com/im/pictures/bc456a57-b...   11249      1.0  1.0  \n",
       "\n",
       "[5 rows x 30 columns]"
      ]
     },
     "execution_count": 4,
     "metadata": {},
     "output_type": "execute_result"
    }
   ],
   "source": [
    "NYC_data.head()"
   ]
  },
  {
   "cell_type": "code",
   "execution_count": 5,
   "metadata": {},
   "outputs": [
    {
     "data": {
      "text/plain": [
       "(4852, 30)"
      ]
     },
     "execution_count": 5,
     "metadata": {},
     "output_type": "execute_result"
    }
   ],
   "source": [
    "NYC_data.shape"
   ]
  },
  {
   "cell_type": "code",
   "execution_count": 6,
   "metadata": {
    "scrolled": true
   },
   "outputs": [
    {
     "data": {
      "text/plain": [
       "Unnamed: 0                   0\n",
       "id                           0\n",
       "log_price                    0\n",
       "property_type                0\n",
       "room_type                    0\n",
       "amenities                    0\n",
       "accommodates                 0\n",
       "bathrooms                   14\n",
       "bed_type                     0\n",
       "cancellation_policy          0\n",
       "cleaning_fee                 0\n",
       "city                         0\n",
       "description                  0\n",
       "first_review              1019\n",
       "host_has_profile_pic        38\n",
       "host_identity_verified      38\n",
       "host_response_rate        1504\n",
       "host_since                  38\n",
       "instant_bookable             0\n",
       "last_review               1015\n",
       "latitude                     0\n",
       "longitude                    0\n",
       "name                         0\n",
       "neighbourhood                0\n",
       "number_of_reviews            0\n",
       "review_scores_rating      1093\n",
       "thumbnail_url              358\n",
       "zipcode                     63\n",
       "bedrooms                     2\n",
       "beds                        12\n",
       "dtype: int64"
      ]
     },
     "execution_count": 6,
     "metadata": {},
     "output_type": "execute_result"
    }
   ],
   "source": [
    "#Finding the missing values in the dataframe\n",
    "NYC_data.isnull().sum()"
   ]
  },
  {
   "cell_type": "markdown",
   "metadata": {},
   "source": [
    "# Feature Manipulation"
   ]
  },
  {
   "cell_type": "code",
   "execution_count": 7,
   "metadata": {},
   "outputs": [],
   "source": [
    "Conversion = {'Condo':['Timeshare','Loft','Guest suite','Condominium','Serviced apartment'],\n",
    "         'Housing':['Vacation home','Townhouse','Casa particular','Villa','In-law'],\n",
    "         'Hotel type 1':['Dorm','Guesthouse','Hostel'],\n",
    "         'Hotel type 2':['Bed & Breakfast','Boutique hotel'],\n",
    "         'Other':['Island','Yurt','Hut','Treehouse',\n",
    "                  'Earth House','Tipi','Train','Parking Space','Lighthouse',\n",
    "                 'Cabin','Camper/RV','Bungalow','Cave','Castle','Chalet','Boat','Tent']\n",
    "        }\n",
    "Conversion_real = {i : k for k, v in Conversion.items() for i in v}\n",
    "NYC_data['property_type'].replace(Conversion_real,inplace =True)"
   ]
  },
  {
   "cell_type": "markdown",
   "metadata": {},
   "source": [
    "# Data Visualization"
   ]
  },
  {
   "cell_type": "markdown",
   "metadata": {},
   "source": [
    "### Heatmap"
   ]
  },
  {
   "cell_type": "code",
   "execution_count": 8,
   "metadata": {},
   "outputs": [
    {
     "data": {
      "text/plain": [
       "<matplotlib.axes._subplots.AxesSubplot at 0x21d52829ba8>"
      ]
     },
     "execution_count": 8,
     "metadata": {},
     "output_type": "execute_result"
    },
    {
     "data": {
      "image/png": "[encoded data removed]",
      "text/plain": [
       "<Figure size 2160x1440 with 2 Axes>"
      ]
     },
     "metadata": {
      "needs_background": "light"
     },
     "output_type": "display_data"
    }
   ],
   "source": [
    "plt.figure(figsize=(30,20)) \n",
    "sns.heatmap(NYC_data.corr(), annot=True, cmap=\"YlGnBu\")"
   ]
  },
  {
   "cell_type": "markdown",
   "metadata": {},
   "source": [
    "### Histogram of various features present in the dataframe"
   ]
  },
  {
   "cell_type": "code",
   "execution_count": 9,
   "metadata": {
    "scrolled": true
   },
   "outputs": [
    {
     "data": {
      "text/plain": [
       "array([[<matplotlib.axes._subplots.AxesSubplot object at 0x0000021D538AD828>,\n",
       "        <matplotlib.axes._subplots.AxesSubplot object at 0x0000021D52E14D30>],\n",
       "       [<matplotlib.axes._subplots.AxesSubplot object at 0x0000021D52E51320>,\n",
       "        <matplotlib.axes._subplots.AxesSubplot object at 0x0000021D52E818D0>]],\n",
       "      dtype=object)"
      ]
     },
     "execution_count": 9,
     "metadata": {},
     "output_type": "execute_result"
    },
    {
     "data": {
      "image/png": "[encoded data removed]",
      "text/plain": [
       "<Figure size 1440x1440 with 9 Axes>"
      ]
     },
     "metadata": {
      "needs_background": "light"
     },
     "output_type": "display_data"
    },
    {
     "data": {
      "image/png": "[encoded data removed]",
      "text/plain": [
       "<Figure size 792x792 with 4 Axes>"
      ]
     },
     "metadata": {
      "needs_background": "light"
     },
     "output_type": "display_data"
    }
   ],
   "source": [
    "NYC_data[NYC_data.dtypes[(NYC_data.dtypes==\"float\")].index.values].hist(figsize=[20,20])\n",
    "NYC_data[NYC_data.dtypes[(NYC_data.dtypes==\"int64\")].index.values].hist(figsize=[11,11])"
   ]
  },
  {
   "cell_type": "code",
   "execution_count": 10,
   "metadata": {},
   "outputs": [
    {
     "data": {
      "text/html": [
       "<div>\n",
       "<style scoped>\n",
       "    .dataframe tbody tr th:only-of-type {\n",
       "        vertical-align: middle;\n",
       "    }\n",
       "\n",
       "    .dataframe tbody tr th {\n",
       "        vertical-align: top;\n",
       "    }\n",
       "\n",
       "    .dataframe thead th {\n",
       "        text-align: right;\n",
       "    }\n",
       "</style>\n",
       "<table border=\"1\" class=\"dataframe\">\n",
       "  <thead>\n",
       "    <tr style=\"text-align: right;\">\n",
       "      <th></th>\n",
       "      <th>count</th>\n",
       "      <th>mean</th>\n",
       "      <th>std</th>\n",
       "      <th>min</th>\n",
       "      <th>25%</th>\n",
       "      <th>50%</th>\n",
       "      <th>75%</th>\n",
       "      <th>max</th>\n",
       "    </tr>\n",
       "  </thead>\n",
       "  <tbody>\n",
       "    <tr>\n",
       "      <th>Unnamed: 0</th>\n",
       "      <td>4852.0</td>\n",
       "      <td>1.623937e+04</td>\n",
       "      <td>9.325224e+03</td>\n",
       "      <td>4.000000</td>\n",
       "      <td>8.123500e+03</td>\n",
       "      <td>1.633650e+04</td>\n",
       "      <td>2.442150e+04</td>\n",
       "      <td>3.234800e+04</td>\n",
       "    </tr>\n",
       "    <tr>\n",
       "      <th>id</th>\n",
       "      <td>4852.0</td>\n",
       "      <td>1.133776e+07</td>\n",
       "      <td>6.080574e+06</td>\n",
       "      <td>3152.000000</td>\n",
       "      <td>6.213140e+06</td>\n",
       "      <td>1.236683e+07</td>\n",
       "      <td>1.649103e+07</td>\n",
       "      <td>2.117444e+07</td>\n",
       "    </tr>\n",
       "    <tr>\n",
       "      <th>log_price</th>\n",
       "      <td>4852.0</td>\n",
       "      <td>4.708381e+00</td>\n",
       "      <td>6.594890e-01</td>\n",
       "      <td>2.397895</td>\n",
       "      <td>4.248495e+00</td>\n",
       "      <td>4.649176e+00</td>\n",
       "      <td>5.164786e+00</td>\n",
       "      <td>7.408531e+00</td>\n",
       "    </tr>\n",
       "    <tr>\n",
       "      <th>accommodates</th>\n",
       "      <td>4852.0</td>\n",
       "      <td>2.778648e+00</td>\n",
       "      <td>1.800746e+00</td>\n",
       "      <td>1.000000</td>\n",
       "      <td>2.000000e+00</td>\n",
       "      <td>2.000000e+00</td>\n",
       "      <td>4.000000e+00</td>\n",
       "      <td>1.600000e+01</td>\n",
       "    </tr>\n",
       "    <tr>\n",
       "      <th>bathrooms</th>\n",
       "      <td>4838.0</td>\n",
       "      <td>1.122261e+00</td>\n",
       "      <td>3.699294e-01</td>\n",
       "      <td>0.000000</td>\n",
       "      <td>1.000000e+00</td>\n",
       "      <td>1.000000e+00</td>\n",
       "      <td>1.000000e+00</td>\n",
       "      <td>5.500000e+00</td>\n",
       "    </tr>\n",
       "    <tr>\n",
       "      <th>latitude</th>\n",
       "      <td>4852.0</td>\n",
       "      <td>4.072880e+01</td>\n",
       "      <td>5.336419e-02</td>\n",
       "      <td>40.542680</td>\n",
       "      <td>4.069014e+01</td>\n",
       "      <td>4.072289e+01</td>\n",
       "      <td>4.076384e+01</td>\n",
       "      <td>4.090080e+01</td>\n",
       "    </tr>\n",
       "    <tr>\n",
       "      <th>longitude</th>\n",
       "      <td>4852.0</td>\n",
       "      <td>-7.395477e+01</td>\n",
       "      <td>4.202628e-02</td>\n",
       "      <td>-74.162537</td>\n",
       "      <td>-7.398367e+01</td>\n",
       "      <td>-7.395690e+01</td>\n",
       "      <td>-7.393956e+01</td>\n",
       "      <td>-7.372349e+01</td>\n",
       "    </tr>\n",
       "    <tr>\n",
       "      <th>number_of_reviews</th>\n",
       "      <td>4852.0</td>\n",
       "      <td>1.793157e+01</td>\n",
       "      <td>3.270683e+01</td>\n",
       "      <td>0.000000</td>\n",
       "      <td>1.000000e+00</td>\n",
       "      <td>5.000000e+00</td>\n",
       "      <td>2.000000e+01</td>\n",
       "      <td>4.740000e+02</td>\n",
       "    </tr>\n",
       "    <tr>\n",
       "      <th>review_scores_rating</th>\n",
       "      <td>3759.0</td>\n",
       "      <td>9.349322e+01</td>\n",
       "      <td>8.581227e+00</td>\n",
       "      <td>20.000000</td>\n",
       "      <td>9.100000e+01</td>\n",
       "      <td>9.600000e+01</td>\n",
       "      <td>1.000000e+02</td>\n",
       "      <td>1.000000e+02</td>\n",
       "    </tr>\n",
       "    <tr>\n",
       "      <th>bedrooms</th>\n",
       "      <td>4850.0</td>\n",
       "      <td>1.157938e+00</td>\n",
       "      <td>6.998541e-01</td>\n",
       "      <td>0.000000</td>\n",
       "      <td>1.000000e+00</td>\n",
       "      <td>1.000000e+00</td>\n",
       "      <td>1.000000e+00</td>\n",
       "      <td>9.000000e+00</td>\n",
       "    </tr>\n",
       "    <tr>\n",
       "      <th>beds</th>\n",
       "      <td>4840.0</td>\n",
       "      <td>1.537397e+00</td>\n",
       "      <td>1.007436e+00</td>\n",
       "      <td>1.000000</td>\n",
       "      <td>1.000000e+00</td>\n",
       "      <td>1.000000e+00</td>\n",
       "      <td>2.000000e+00</td>\n",
       "      <td>1.500000e+01</td>\n",
       "    </tr>\n",
       "  </tbody>\n",
       "</table>\n",
       "</div>"
      ],
      "text/plain": [
       "                       count          mean           std          min  \\\n",
       "Unnamed: 0            4852.0  1.623937e+04  9.325224e+03     4.000000   \n",
       "id                    4852.0  1.133776e+07  6.080574e+06  3152.000000   \n",
       "log_price             4852.0  4.708381e+00  6.594890e-01     2.397895   \n",
       "accommodates          4852.0  2.778648e+00  1.800746e+00     1.000000   \n",
       "bathrooms             4838.0  1.122261e+00  3.699294e-01     0.000000   \n",
       "latitude              4852.0  4.072880e+01  5.336419e-02    40.542680   \n",
       "longitude             4852.0 -7.395477e+01  4.202628e-02   -74.162537   \n",
       "number_of_reviews     4852.0  1.793157e+01  3.270683e+01     0.000000   \n",
       "review_scores_rating  3759.0  9.349322e+01  8.581227e+00    20.000000   \n",
       "bedrooms              4850.0  1.157938e+00  6.998541e-01     0.000000   \n",
       "beds                  4840.0  1.537397e+00  1.007436e+00     1.000000   \n",
       "\n",
       "                               25%           50%           75%           max  \n",
       "Unnamed: 0            8.123500e+03  1.633650e+04  2.442150e+04  3.234800e+04  \n",
       "id                    6.213140e+06  1.236683e+07  1.649103e+07  2.117444e+07  \n",
       "log_price             4.248495e+00  4.649176e+00  5.164786e+00  7.408531e+00  \n",
       "accommodates          2.000000e+00  2.000000e+00  4.000000e+00  1.600000e+01  \n",
       "bathrooms             1.000000e+00  1.000000e+00  1.000000e+00  5.500000e+00  \n",
       "latitude              4.069014e+01  4.072289e+01  4.076384e+01  4.090080e+01  \n",
       "longitude            -7.398367e+01 -7.395690e+01 -7.393956e+01 -7.372349e+01  \n",
       "number_of_reviews     1.000000e+00  5.000000e+00  2.000000e+01  4.740000e+02  \n",
       "review_scores_rating  9.100000e+01  9.600000e+01  1.000000e+02  1.000000e+02  \n",
       "bedrooms              1.000000e+00  1.000000e+00  1.000000e+00  9.000000e+00  \n",
       "beds                  1.000000e+00  1.000000e+00  2.000000e+00  1.500000e+01  "
      ]
     },
     "execution_count": 10,
     "metadata": {},
     "output_type": "execute_result"
    }
   ],
   "source": [
    "NYC_data.describe().transpose() "
   ]
  },
  {
   "cell_type": "code",
   "execution_count": 11,
   "metadata": {},
   "outputs": [],
   "source": [
    "#imputing values with mean, median and mode\n",
    "#mode is 1.0\n",
    "NYC_data['bathrooms'].fillna(NYC_data['bathrooms'].mode()[0],inplace=True)\n",
    "#mean is 93.50\n",
    "NYC_data['review_scores_rating'].fillna(NYC_data['review_scores_rating'].mean(),inplace=True)\n",
    "#mode is 1 bedroom\n",
    "NYC_data['bedrooms'].fillna(NYC_data['bedrooms'].mode()[0],inplace=True)\n",
    "#mode is 1 bed\n",
    "NYC_data['beds'].fillna(NYC_data['beds'].mode()[0],inplace=True)"
   ]
  },
  {
   "cell_type": "code",
   "execution_count": 12,
   "metadata": {},
   "outputs": [
    {
     "data": {
      "text/plain": [
       "Unnamed: 0                   0\n",
       "id                           0\n",
       "log_price                    0\n",
       "property_type                0\n",
       "room_type                    0\n",
       "amenities                    0\n",
       "accommodates                 0\n",
       "bathrooms                    0\n",
       "bed_type                     0\n",
       "cancellation_policy          0\n",
       "cleaning_fee                 0\n",
       "city                         0\n",
       "description                  0\n",
       "first_review              1019\n",
       "host_has_profile_pic        38\n",
       "host_identity_verified      38\n",
       "host_response_rate        1504\n",
       "host_since                  38\n",
       "instant_bookable             0\n",
       "last_review               1015\n",
       "latitude                     0\n",
       "longitude                    0\n",
       "name                         0\n",
       "neighbourhood                0\n",
       "number_of_reviews            0\n",
       "review_scores_rating         0\n",
       "thumbnail_url              358\n",
       "zipcode                     63\n",
       "bedrooms                     0\n",
       "beds                         0\n",
       "dtype: int64"
      ]
     },
     "execution_count": 12,
     "metadata": {},
     "output_type": "execute_result"
    }
   ],
   "source": [
    "NYC_data.isnull().sum()"
   ]
  },
  {
   "cell_type": "code",
   "execution_count": 13,
   "metadata": {},
   "outputs": [],
   "source": [
    "#Removing the null values from is_null\n",
    "Remove_null=pd.DataFrame({\"val\":NYC_data['zipcode'].isnull()})\n",
    "NYC_data=NYC_data[Remove_null['val']==False]"
   ]
  },
  {
   "cell_type": "code",
   "execution_count": 14,
   "metadata": {},
   "outputs": [],
   "source": [
    "NYC_data=NYC_data.drop(['Unnamed: 0','amenities','bed_type','city','description','first_review',\n",
    "                        'host_has_profile_pic','host_identity_verified','host_response_rate','host_since'\n",
    "                       ,'last_review','name','neighbourhood','thumbnail_url','zipcode','id'],axis=1)"
   ]
  },
  {
   "cell_type": "code",
   "execution_count": 15,
   "metadata": {
    "scrolled": true
   },
   "outputs": [
    {
     "data": {
      "text/plain": [
       "log_price               0\n",
       "property_type           0\n",
       "room_type               0\n",
       "accommodates            0\n",
       "bathrooms               0\n",
       "cancellation_policy     0\n",
       "cleaning_fee            0\n",
       "instant_bookable        0\n",
       "latitude                0\n",
       "longitude               0\n",
       "number_of_reviews       0\n",
       "review_scores_rating    0\n",
       "bedrooms                0\n",
       "beds                    0\n",
       "dtype: int64"
      ]
     },
     "execution_count": 15,
     "metadata": {},
     "output_type": "execute_result"
    }
   ],
   "source": [
    "NYC_data.isnull().sum()"
   ]
  },
  {
   "cell_type": "code",
   "execution_count": 16,
   "metadata": {},
   "outputs": [
    {
     "data": {
      "text/html": [
       "<div>\n",
       "<style scoped>\n",
       "    .dataframe tbody tr th:only-of-type {\n",
       "        vertical-align: middle;\n",
       "    }\n",
       "\n",
       "    .dataframe tbody tr th {\n",
       "        vertical-align: top;\n",
       "    }\n",
       "\n",
       "    .dataframe thead th {\n",
       "        text-align: right;\n",
       "    }\n",
       "</style>\n",
       "<table border=\"1\" class=\"dataframe\">\n",
       "  <thead>\n",
       "    <tr style=\"text-align: right;\">\n",
       "      <th></th>\n",
       "      <th>log_price</th>\n",
       "      <th>accommodates</th>\n",
       "      <th>bathrooms</th>\n",
       "      <th>latitude</th>\n",
       "      <th>longitude</th>\n",
       "      <th>number_of_reviews</th>\n",
       "      <th>review_scores_rating</th>\n",
       "      <th>bedrooms</th>\n",
       "      <th>beds</th>\n",
       "    </tr>\n",
       "  </thead>\n",
       "  <tbody>\n",
       "    <tr>\n",
       "      <th>count</th>\n",
       "      <td>4789.000000</td>\n",
       "      <td>4789.000000</td>\n",
       "      <td>4789.000000</td>\n",
       "      <td>4789.000000</td>\n",
       "      <td>4789.000000</td>\n",
       "      <td>4789.000000</td>\n",
       "      <td>4789.000000</td>\n",
       "      <td>4789.000000</td>\n",
       "      <td>4789.000000</td>\n",
       "    </tr>\n",
       "    <tr>\n",
       "      <th>mean</th>\n",
       "      <td>4.705982</td>\n",
       "      <td>2.767592</td>\n",
       "      <td>1.121529</td>\n",
       "      <td>40.728855</td>\n",
       "      <td>-73.954704</td>\n",
       "      <td>17.957194</td>\n",
       "      <td>93.483237</td>\n",
       "      <td>1.156609</td>\n",
       "      <td>1.530591</td>\n",
       "    </tr>\n",
       "    <tr>\n",
       "      <th>std</th>\n",
       "      <td>0.658785</td>\n",
       "      <td>1.785157</td>\n",
       "      <td>0.369942</td>\n",
       "      <td>0.053468</td>\n",
       "      <td>0.042065</td>\n",
       "      <td>32.749212</td>\n",
       "      <td>7.547036</td>\n",
       "      <td>0.697373</td>\n",
       "      <td>1.000498</td>\n",
       "    </tr>\n",
       "    <tr>\n",
       "      <th>min</th>\n",
       "      <td>2.397895</td>\n",
       "      <td>1.000000</td>\n",
       "      <td>0.000000</td>\n",
       "      <td>40.542680</td>\n",
       "      <td>-74.162537</td>\n",
       "      <td>0.000000</td>\n",
       "      <td>20.000000</td>\n",
       "      <td>0.000000</td>\n",
       "      <td>1.000000</td>\n",
       "    </tr>\n",
       "    <tr>\n",
       "      <th>25%</th>\n",
       "      <td>4.248495</td>\n",
       "      <td>2.000000</td>\n",
       "      <td>1.000000</td>\n",
       "      <td>40.690093</td>\n",
       "      <td>-73.983666</td>\n",
       "      <td>1.000000</td>\n",
       "      <td>93.000000</td>\n",
       "      <td>1.000000</td>\n",
       "      <td>1.000000</td>\n",
       "    </tr>\n",
       "    <tr>\n",
       "      <th>50%</th>\n",
       "      <td>4.624973</td>\n",
       "      <td>2.000000</td>\n",
       "      <td>1.000000</td>\n",
       "      <td>40.722996</td>\n",
       "      <td>-73.956807</td>\n",
       "      <td>5.000000</td>\n",
       "      <td>93.493216</td>\n",
       "      <td>1.000000</td>\n",
       "      <td>1.000000</td>\n",
       "    </tr>\n",
       "    <tr>\n",
       "      <th>75%</th>\n",
       "      <td>5.164786</td>\n",
       "      <td>4.000000</td>\n",
       "      <td>1.000000</td>\n",
       "      <td>40.763896</td>\n",
       "      <td>-73.939605</td>\n",
       "      <td>20.000000</td>\n",
       "      <td>98.000000</td>\n",
       "      <td>1.000000</td>\n",
       "      <td>2.000000</td>\n",
       "    </tr>\n",
       "    <tr>\n",
       "      <th>max</th>\n",
       "      <td>7.408531</td>\n",
       "      <td>16.000000</td>\n",
       "      <td>5.500000</td>\n",
       "      <td>40.900803</td>\n",
       "      <td>-73.723488</td>\n",
       "      <td>474.000000</td>\n",
       "      <td>100.000000</td>\n",
       "      <td>9.000000</td>\n",
       "      <td>15.000000</td>\n",
       "    </tr>\n",
       "  </tbody>\n",
       "</table>\n",
       "</div>"
      ],
      "text/plain": [
       "         log_price  accommodates    bathrooms     latitude    longitude  \\\n",
       "count  4789.000000   4789.000000  4789.000000  4789.000000  4789.000000   \n",
       "mean      4.705982      2.767592     1.121529    40.728855   -73.954704   \n",
       "std       0.658785      1.785157     0.369942     0.053468     0.042065   \n",
       "min       2.397895      1.000000     0.000000    40.542680   -74.162537   \n",
       "25%       4.248495      2.000000     1.000000    40.690093   -73.983666   \n",
       "50%       4.624973      2.000000     1.000000    40.722996   -73.956807   \n",
       "75%       5.164786      4.000000     1.000000    40.763896   -73.939605   \n",
       "max       7.408531     16.000000     5.500000    40.900803   -73.723488   \n",
       "\n",
       "       number_of_reviews  review_scores_rating     bedrooms         beds  \n",
       "count        4789.000000           4789.000000  4789.000000  4789.000000  \n",
       "mean           17.957194             93.483237     1.156609     1.530591  \n",
       "std            32.749212              7.547036     0.697373     1.000498  \n",
       "min             0.000000             20.000000     0.000000     1.000000  \n",
       "25%             1.000000             93.000000     1.000000     1.000000  \n",
       "50%             5.000000             93.493216     1.000000     1.000000  \n",
       "75%            20.000000             98.000000     1.000000     2.000000  \n",
       "max           474.000000            100.000000     9.000000    15.000000  "
      ]
     },
     "execution_count": 16,
     "metadata": {},
     "output_type": "execute_result"
    }
   ],
   "source": [
    "NYC_data.describe()"
   ]
  },
  {
   "cell_type": "code",
   "execution_count": 17,
   "metadata": {
    "scrolled": true
   },
   "outputs": [
    {
     "data": {
      "text/html": [
       "<div>\n",
       "<style scoped>\n",
       "    .dataframe tbody tr th:only-of-type {\n",
       "        vertical-align: middle;\n",
       "    }\n",
       "\n",
       "    .dataframe tbody tr th {\n",
       "        vertical-align: top;\n",
       "    }\n",
       "\n",
       "    .dataframe thead th {\n",
       "        text-align: right;\n",
       "    }\n",
       "</style>\n",
       "<table border=\"1\" class=\"dataframe\">\n",
       "  <thead>\n",
       "    <tr style=\"text-align: right;\">\n",
       "      <th></th>\n",
       "      <th>property_type</th>\n",
       "      <th>room_type</th>\n",
       "      <th>cancellation_policy</th>\n",
       "      <th>cleaning_fee</th>\n",
       "      <th>instant_bookable</th>\n",
       "    </tr>\n",
       "  </thead>\n",
       "  <tbody>\n",
       "    <tr>\n",
       "      <th>count</th>\n",
       "      <td>4789</td>\n",
       "      <td>4789</td>\n",
       "      <td>4789</td>\n",
       "      <td>4789</td>\n",
       "      <td>4789</td>\n",
       "    </tr>\n",
       "    <tr>\n",
       "      <th>unique</th>\n",
       "      <td>7</td>\n",
       "      <td>3</td>\n",
       "      <td>3</td>\n",
       "      <td>2</td>\n",
       "      <td>2</td>\n",
       "    </tr>\n",
       "    <tr>\n",
       "      <th>top</th>\n",
       "      <td>Apartment</td>\n",
       "      <td>Entire home/apt</td>\n",
       "      <td>strict</td>\n",
       "      <td>Cleaning Fee Req</td>\n",
       "      <td>No Instant Booking</td>\n",
       "    </tr>\n",
       "    <tr>\n",
       "      <th>freq</th>\n",
       "      <td>4044</td>\n",
       "      <td>2360</td>\n",
       "      <td>2152</td>\n",
       "      <td>3393</td>\n",
       "      <td>3618</td>\n",
       "    </tr>\n",
       "  </tbody>\n",
       "</table>\n",
       "</div>"
      ],
      "text/plain": [
       "       property_type        room_type cancellation_policy      cleaning_fee  \\\n",
       "count           4789             4789                4789              4789   \n",
       "unique             7                3                   3                 2   \n",
       "top        Apartment  Entire home/apt              strict  Cleaning Fee Req   \n",
       "freq            4044             2360                2152              3393   \n",
       "\n",
       "          instant_bookable  \n",
       "count                 4789  \n",
       "unique                   2  \n",
       "top     No Instant Booking  \n",
       "freq                  3618  "
      ]
     },
     "execution_count": 17,
     "metadata": {},
     "output_type": "execute_result"
    }
   ],
   "source": [
    "NYC_data.describe(include = 'O')"
   ]
  },
  {
   "cell_type": "code",
   "execution_count": 18,
   "metadata": {},
   "outputs": [],
   "source": [
    "#categorical=['property_type','room_type','cancellation_policy','instant_bookable']\n",
    "NYC_data=pd.concat((NYC_data,pd.get_dummies(NYC_data['property_type'])),axis=1)\n",
    "NYC_data=pd.concat((NYC_data,pd.get_dummies(NYC_data['room_type'])),axis=1)\n",
    "NYC_data=pd.concat((NYC_data,pd.get_dummies(NYC_data['cancellation_policy'])),axis=1)\n",
    "NYC_data=pd.concat((NYC_data,pd.get_dummies(NYC_data['instant_bookable'])),axis=1)\n",
    "NYC_data=pd.concat((NYC_data,pd.get_dummies(NYC_data['cleaning_fee'])),axis=1)"
   ]
  },
  {
   "cell_type": "code",
   "execution_count": 19,
   "metadata": {},
   "outputs": [],
   "source": [
    "NYC_data=NYC_data.drop(['property_type','room_type','cancellation_policy','instant_bookable','cleaning_fee'],axis=1)"
   ]
  },
  {
   "cell_type": "code",
   "execution_count": 20,
   "metadata": {},
   "outputs": [
    {
     "data": {
      "text/plain": [
       "log_price               0\n",
       "accommodates            0\n",
       "bathrooms               0\n",
       "latitude                0\n",
       "longitude               0\n",
       "number_of_reviews       0\n",
       "review_scores_rating    0\n",
       "bedrooms                0\n",
       "beds                    0\n",
       "Apartment               0\n",
       "Condo                   0\n",
       "Hotel type 1            0\n",
       "Hotel type 2            0\n",
       "House                   0\n",
       "Housing                 0\n",
       "Other                   0\n",
       "Entire home/apt         0\n",
       "Private room            0\n",
       "Shared room             0\n",
       "flexible                0\n",
       "moderate                0\n",
       "strict                  0\n",
       "Instant Booking         0\n",
       "No Instant Booking      0\n",
       "Cleaning Fee Req        0\n",
       "No Cleaning Fee         0\n",
       "dtype: int64"
      ]
     },
     "execution_count": 20,
     "metadata": {},
     "output_type": "execute_result"
    }
   ],
   "source": [
    "NYC_data.isnull().sum()"
   ]
  },
  {
   "cell_type": "markdown",
   "metadata": {},
   "source": [
    "# Splitting the data"
   ]
  },
  {
   "cell_type": "code",
   "execution_count": 21,
   "metadata": {},
   "outputs": [
    {
     "data": {
      "text/html": [
       "<div>\n",
       "<style scoped>\n",
       "    .dataframe tbody tr th:only-of-type {\n",
       "        vertical-align: middle;\n",
       "    }\n",
       "\n",
       "    .dataframe tbody tr th {\n",
       "        vertical-align: top;\n",
       "    }\n",
       "\n",
       "    .dataframe thead th {\n",
       "        text-align: right;\n",
       "    }\n",
       "</style>\n",
       "<table border=\"1\" class=\"dataframe\">\n",
       "  <thead>\n",
       "    <tr style=\"text-align: right;\">\n",
       "      <th></th>\n",
       "      <th>log_price</th>\n",
       "    </tr>\n",
       "  </thead>\n",
       "  <tbody>\n",
       "    <tr>\n",
       "      <th>0</th>\n",
       "      <td>4.382027</td>\n",
       "    </tr>\n",
       "    <tr>\n",
       "      <th>1</th>\n",
       "      <td>5.075174</td>\n",
       "    </tr>\n",
       "    <tr>\n",
       "      <th>3</th>\n",
       "      <td>5.010635</td>\n",
       "    </tr>\n",
       "    <tr>\n",
       "      <th>4</th>\n",
       "      <td>4.317488</td>\n",
       "    </tr>\n",
       "    <tr>\n",
       "      <th>5</th>\n",
       "      <td>5.416100</td>\n",
       "    </tr>\n",
       "  </tbody>\n",
       "</table>\n",
       "</div>"
      ],
      "text/plain": [
       "   log_price\n",
       "0   4.382027\n",
       "1   5.075174\n",
       "3   5.010635\n",
       "4   4.317488\n",
       "5   5.416100"
      ]
     },
     "execution_count": 21,
     "metadata": {},
     "output_type": "execute_result"
    }
   ],
   "source": [
    "target = NYC_data['log_price']\n",
    "target_df = pd.DataFrame(target)\n",
    "target_df.head()"
   ]
  },
  {
   "cell_type": "code",
   "execution_count": 22,
   "metadata": {},
   "outputs": [
    {
     "data": {
      "text/html": [
       "<div>\n",
       "<style scoped>\n",
       "    .dataframe tbody tr th:only-of-type {\n",
       "        vertical-align: middle;\n",
       "    }\n",
       "\n",
       "    .dataframe tbody tr th {\n",
       "        vertical-align: top;\n",
       "    }\n",
       "\n",
       "    .dataframe thead th {\n",
       "        text-align: right;\n",
       "    }\n",
       "</style>\n",
       "<table border=\"1\" class=\"dataframe\">\n",
       "  <thead>\n",
       "    <tr style=\"text-align: right;\">\n",
       "      <th></th>\n",
       "      <th>accommodates</th>\n",
       "      <th>bathrooms</th>\n",
       "      <th>latitude</th>\n",
       "      <th>longitude</th>\n",
       "      <th>number_of_reviews</th>\n",
       "      <th>review_scores_rating</th>\n",
       "      <th>bedrooms</th>\n",
       "      <th>beds</th>\n",
       "      <th>Apartment</th>\n",
       "      <th>Condo</th>\n",
       "      <th>...</th>\n",
       "      <th>Entire home/apt</th>\n",
       "      <th>Private room</th>\n",
       "      <th>Shared room</th>\n",
       "      <th>flexible</th>\n",
       "      <th>moderate</th>\n",
       "      <th>strict</th>\n",
       "      <th>Instant Booking</th>\n",
       "      <th>No Instant Booking</th>\n",
       "      <th>Cleaning Fee Req</th>\n",
       "      <th>No Cleaning Fee</th>\n",
       "    </tr>\n",
       "  </thead>\n",
       "  <tbody>\n",
       "    <tr>\n",
       "      <th>0</th>\n",
       "      <td>1</td>\n",
       "      <td>1.0</td>\n",
       "      <td>40.762239</td>\n",
       "      <td>-73.981589</td>\n",
       "      <td>1</td>\n",
       "      <td>93.493216</td>\n",
       "      <td>1.0</td>\n",
       "      <td>1.0</td>\n",
       "      <td>0</td>\n",
       "      <td>1</td>\n",
       "      <td>...</td>\n",
       "      <td>0</td>\n",
       "      <td>1</td>\n",
       "      <td>0</td>\n",
       "      <td>1</td>\n",
       "      <td>0</td>\n",
       "      <td>0</td>\n",
       "      <td>0</td>\n",
       "      <td>1</td>\n",
       "      <td>0</td>\n",
       "      <td>1</td>\n",
       "    </tr>\n",
       "    <tr>\n",
       "      <th>1</th>\n",
       "      <td>3</td>\n",
       "      <td>1.0</td>\n",
       "      <td>40.677892</td>\n",
       "      <td>-73.992054</td>\n",
       "      <td>17</td>\n",
       "      <td>98.000000</td>\n",
       "      <td>1.0</td>\n",
       "      <td>2.0</td>\n",
       "      <td>1</td>\n",
       "      <td>0</td>\n",
       "      <td>...</td>\n",
       "      <td>1</td>\n",
       "      <td>0</td>\n",
       "      <td>0</td>\n",
       "      <td>0</td>\n",
       "      <td>0</td>\n",
       "      <td>1</td>\n",
       "      <td>0</td>\n",
       "      <td>1</td>\n",
       "      <td>1</td>\n",
       "      <td>0</td>\n",
       "    </tr>\n",
       "    <tr>\n",
       "      <th>3</th>\n",
       "      <td>4</td>\n",
       "      <td>1.0</td>\n",
       "      <td>40.800331</td>\n",
       "      <td>-73.965090</td>\n",
       "      <td>49</td>\n",
       "      <td>96.000000</td>\n",
       "      <td>1.0</td>\n",
       "      <td>2.0</td>\n",
       "      <td>1</td>\n",
       "      <td>0</td>\n",
       "      <td>...</td>\n",
       "      <td>1</td>\n",
       "      <td>0</td>\n",
       "      <td>0</td>\n",
       "      <td>0</td>\n",
       "      <td>0</td>\n",
       "      <td>1</td>\n",
       "      <td>0</td>\n",
       "      <td>1</td>\n",
       "      <td>1</td>\n",
       "      <td>0</td>\n",
       "    </tr>\n",
       "    <tr>\n",
       "      <th>4</th>\n",
       "      <td>2</td>\n",
       "      <td>1.0</td>\n",
       "      <td>40.711386</td>\n",
       "      <td>-73.963529</td>\n",
       "      <td>0</td>\n",
       "      <td>93.493216</td>\n",
       "      <td>1.0</td>\n",
       "      <td>1.0</td>\n",
       "      <td>1</td>\n",
       "      <td>0</td>\n",
       "      <td>...</td>\n",
       "      <td>0</td>\n",
       "      <td>1</td>\n",
       "      <td>0</td>\n",
       "      <td>1</td>\n",
       "      <td>0</td>\n",
       "      <td>0</td>\n",
       "      <td>1</td>\n",
       "      <td>0</td>\n",
       "      <td>0</td>\n",
       "      <td>1</td>\n",
       "    </tr>\n",
       "    <tr>\n",
       "      <th>5</th>\n",
       "      <td>5</td>\n",
       "      <td>1.0</td>\n",
       "      <td>40.726874</td>\n",
       "      <td>-73.979947</td>\n",
       "      <td>0</td>\n",
       "      <td>93.493216</td>\n",
       "      <td>2.0</td>\n",
       "      <td>2.0</td>\n",
       "      <td>1</td>\n",
       "      <td>0</td>\n",
       "      <td>...</td>\n",
       "      <td>1</td>\n",
       "      <td>0</td>\n",
       "      <td>0</td>\n",
       "      <td>1</td>\n",
       "      <td>0</td>\n",
       "      <td>0</td>\n",
       "      <td>0</td>\n",
       "      <td>1</td>\n",
       "      <td>1</td>\n",
       "      <td>0</td>\n",
       "    </tr>\n",
       "  </tbody>\n",
       "</table>\n",
       "<p>5 rows × 25 columns</p>\n",
       "</div>"
      ],
      "text/plain": [
       "   accommodates  bathrooms   latitude  longitude  number_of_reviews  \\\n",
       "0             1        1.0  40.762239 -73.981589                  1   \n",
       "1             3        1.0  40.677892 -73.992054                 17   \n",
       "3             4        1.0  40.800331 -73.965090                 49   \n",
       "4             2        1.0  40.711386 -73.963529                  0   \n",
       "5             5        1.0  40.726874 -73.979947                  0   \n",
       "\n",
       "   review_scores_rating  bedrooms  beds  Apartment  Condo  ...  \\\n",
       "0             93.493216       1.0   1.0          0      1  ...   \n",
       "1             98.000000       1.0   2.0          1      0  ...   \n",
       "3             96.000000       1.0   2.0          1      0  ...   \n",
       "4             93.493216       1.0   1.0          1      0  ...   \n",
       "5             93.493216       2.0   2.0          1      0  ...   \n",
       "\n",
       "   Entire home/apt  Private room  Shared room  flexible  moderate  strict  \\\n",
       "0                0             1            0         1         0       0   \n",
       "1                1             0            0         0         0       1   \n",
       "3                1             0            0         0         0       1   \n",
       "4                0             1            0         1         0       0   \n",
       "5                1             0            0         1         0       0   \n",
       "\n",
       "   Instant Booking  No Instant Booking  Cleaning Fee Req  No Cleaning Fee  \n",
       "0                0                   1                 0                1  \n",
       "1                0                   1                 1                0  \n",
       "3                0                   1                 1                0  \n",
       "4                1                   0                 0                1  \n",
       "5                0                   1                 1                0  \n",
       "\n",
       "[5 rows x 25 columns]"
      ]
     },
     "execution_count": 22,
     "metadata": {},
     "output_type": "execute_result"
    }
   ],
   "source": [
    "features_df=NYC_data.drop(['log_price'],axis=1)\n",
    "features_df.head()"
   ]
  },
  {
   "cell_type": "code",
   "execution_count": 23,
   "metadata": {},
   "outputs": [],
   "source": [
    "from sklearn.model_selection import train_test_split\n",
    "X_train_org, X_test_org, y_train, y_test = train_test_split(features_df,target_df, test_size=0.25, random_state = 0)"
   ]
  },
  {
   "cell_type": "markdown",
   "metadata": {},
   "source": [
    "## Scaling the Data"
   ]
  },
  {
   "cell_type": "code",
   "execution_count": 24,
   "metadata": {},
   "outputs": [],
   "source": [
    "from sklearn.preprocessing import MinMaxScaler\n",
    "\n",
    "scaler = MinMaxScaler()\n",
    "X_train = scaler.fit_transform(X_train_org)\n",
    "X_test = scaler.transform(X_test_org)"
   ]
  },
  {
   "cell_type": "code",
   "execution_count": 25,
   "metadata": {},
   "outputs": [
    {
     "name": "stdout",
     "output_type": "stream",
     "text": [
      "Train dataset dimensionality: (3591, 25)\n",
      "Train dataset dimensionality: (3591, 1)\n"
     ]
    }
   ],
   "source": [
    "X_train = pd.DataFrame(X_train, columns = X_train_org.columns)\n",
    "print('Train dataset dimensionality:' , X_train.shape)\n",
    "print('Train dataset dimensionality:' , y_train.shape)"
   ]
  },
  {
   "cell_type": "code",
   "execution_count": 26,
   "metadata": {},
   "outputs": [
    {
     "name": "stdout",
     "output_type": "stream",
     "text": [
      "Test dataset dimensionality: (1198, 25)\n",
      "Train dataset dimensionality: (1198, 1)\n"
     ]
    }
   ],
   "source": [
    "X_test = pd.DataFrame(X_test, columns = X_test_org.columns)\n",
    "print('Test dataset dimensionality:' , X_test.shape)\n",
    "print('Train dataset dimensionality:' , y_test.shape)"
   ]
  },
  {
   "cell_type": "markdown",
   "metadata": {},
   "source": [
    "# Model 1 Linear Regression"
   ]
  },
  {
   "cell_type": "code",
   "execution_count": 27,
   "metadata": {},
   "outputs": [
    {
     "name": "stdout",
     "output_type": "stream",
     "text": [
      "Train Score for Linear Regression model : 0.594\n",
      "Test Score for Linear Regression model : 0.558\n",
      "\n",
      "RMSE: 0.4366\n",
      "r2_score: 0.5582\n"
     ]
    }
   ],
   "source": [
    "from sklearn.linear_model import LinearRegression\n",
    "from sklearn.metrics import mean_squared_error, r2_score\n",
    "regressor = LinearRegression()\n",
    "\n",
    "regressor.fit(X_train, y_train)\n",
    "print('Train Score for Linear Regression model : {:.3f}'.format(regressor.score(X_train, y_train)))\n",
    "print('Test Score for Linear Regression model : {:.3f}\\n'.format(regressor.score(X_test, y_test)))\n",
    "\n",
    "pred_linear = regressor.predict(X_test)\n",
    "\n",
    "print('RMSE: {:.4f}'.format(np.sqrt(mean_squared_error(y_test,pred_linear))))\n",
    "print('r2_score: {:.4f}'.format(r2_score(y_test,pred_linear)))"
   ]
  },
  {
   "cell_type": "markdown",
   "metadata": {},
   "source": [
    "### Cross Validation"
   ]
  },
  {
   "cell_type": "code",
   "execution_count": 28,
   "metadata": {},
   "outputs": [
    {
     "name": "stdout",
     "output_type": "stream",
     "text": [
      "Cross-validation scores: [0.61271884 0.58457007 0.55727067 0.63792959 0.53107396]\n",
      "Average cross-validation training score: 0.58\n"
     ]
    }
   ],
   "source": [
    "scores_linear = cross_val_score(regressor, X_train,y_train,cv=5)\n",
    "print(\"Cross-validation scores: {}\".format(scores_linear))\n",
    "print(\"Average cross-validation training score: {:.2f}\".format(scores_linear.mean()))"
   ]
  },
  {
   "cell_type": "code",
   "execution_count": 29,
   "metadata": {},
   "outputs": [
    {
     "name": "stdout",
     "output_type": "stream",
     "text": [
      "Cross-validation scores: [0.47920949 0.5323787  0.57204929 0.55555684 0.60531863]\n",
      "Average cross-validation  test score: 0.55\n"
     ]
    }
   ],
   "source": [
    "scores = cross_val_score(regressor, X_test,y_test,cv=5)\n",
    "print(\"Cross-validation scores: {}\".format(scores))\n",
    "print(\"Average cross-validation  test score: {:.2f}\".format(scores.mean()))"
   ]
  },
  {
   "cell_type": "markdown",
   "metadata": {},
   "source": [
    "### Apply GridSearch on Linear"
   ]
  },
  {
   "cell_type": "code",
   "execution_count": 30,
   "metadata": {},
   "outputs": [
    {
     "name": "stdout",
     "output_type": "stream",
     "text": [
      "{'copy_X': True, 'fit_intercept': True, 'n_jobs': None, 'normalize': False}\n"
     ]
    }
   ],
   "source": [
    "from pprint import pprint\n",
    "pprint(regressor.get_params())"
   ]
  },
  {
   "cell_type": "code",
   "execution_count": 31,
   "metadata": {
    "scrolled": true
   },
   "outputs": [
    {
     "name": "stdout",
     "output_type": "stream",
     "text": [
      "Fitting 5 folds for each of 8 candidates, totalling 40 fits\n"
     ]
    },
    {
     "name": "stderr",
     "output_type": "stream",
     "text": [
      "[Parallel(n_jobs=-1)]: Using backend LokyBackend with 8 concurrent workers.\n"
     ]
    },
    {
     "name": "stdout",
     "output_type": "stream",
     "text": [
      "{'copy_X': True, 'fit_intercept': True, 'normalize': True}\n"
     ]
    },
    {
     "name": "stderr",
     "output_type": "stream",
     "text": [
      "[Parallel(n_jobs=-1)]: Done  40 out of  40 | elapsed:    3.4s finished\n"
     ]
    }
   ],
   "source": [
    "param_grid_linear = {'fit_intercept':[True,False], 'normalize':[True,False], 'copy_X':[True, False]}\n",
    "\n",
    "CrossValidation_linearreg = GridSearchCV(regressor,param_grid_linear ,cv=5, return_train_score=True, verbose = 1, n_jobs = -1)\n",
    "CrossValidation_linearreg.fit(X_train, y_train)\n",
    "\n",
    "best_parameters_lreg=CrossValidation_linearreg.best_params_\n",
    "print(best_parameters_lreg)"
   ]
  },
  {
   "cell_type": "code",
   "execution_count": 32,
   "metadata": {},
   "outputs": [
    {
     "name": "stdout",
     "output_type": "stream",
     "text": [
      "Train score: 59.3501 %\n",
      "Test score: 55.8249 %\n",
      "RMSE: 0.4366\n",
      "r2_score: 0.5582\n"
     ]
    }
   ],
   "source": [
    "regressor =LinearRegression(copy_X = True,fit_intercept = True, normalize= True)\n",
    "\n",
    "regressor.fit(X_train, y_train)\n",
    "\n",
    "y_pred_linear=regressor.predict(X_test)\n",
    "\n",
    "print('Train score: {:.4f} %'.format(regressor.score(X_train, y_train)*100))\n",
    "print('Test score: {:.4f} %'.format(regressor.score(X_test, y_test)*100))\n",
    "\n",
    "print('RMSE: {:.4f}'.format(np.sqrt(mean_squared_error(y_test,y_pred_linear))))\n",
    "print('r2_score: {:.4f}'.format(r2_score(y_test,y_pred_linear)))"
   ]
  },
  {
   "cell_type": "markdown",
   "metadata": {},
   "source": [
    "# Model 2 Polynomial Regression"
   ]
  },
  {
   "cell_type": "code",
   "execution_count": 33,
   "metadata": {},
   "outputs": [
    {
     "name": "stdout",
     "output_type": "stream",
     "text": [
      "[0.5935181638061016, 0.6912213707126253]\n",
      "[0.5581344843839963, -1.754870312041344e+16]\n"
     ]
    }
   ],
   "source": [
    "from  sklearn.preprocessing  import PolynomialFeatures\n",
    "train_score_list = []\n",
    "test_score_list = []\n",
    "\n",
    "for n in range(1,3):\n",
    "    poly = PolynomialFeatures(n)\n",
    "    X_train_reg_poly = poly.fit_transform(X_train)\n",
    "    X_test_reg_poly = poly.transform(X_test)\n",
    "    regressor_poly =LinearRegression()\n",
    "    regressor_poly.fit(X_train_reg_poly, y_train)\n",
    "    train_score_list.append(regressor_poly.score(X_train_reg_poly, y_train))\n",
    "    test_score_list.append(regressor_poly.score(X_test_reg_poly, y_test))\n",
    "    \n",
    "print(train_score_list)\n",
    "print(test_score_list)"
   ]
  },
  {
   "cell_type": "code",
   "execution_count": 34,
   "metadata": {
    "scrolled": false
   },
   "outputs": [
    {
     "data": {
      "text/plain": [
       "<matplotlib.legend.Legend at 0x21d53553e80>"
      ]
     },
     "execution_count": 34,
     "metadata": {},
     "output_type": "execute_result"
    },
    {
     "data": {
      "image/png": "[encoded data removed]",
      "text/plain": [
       "<Figure size 432x288 with 1 Axes>"
      ]
     },
     "metadata": {
      "needs_background": "light"
     },
     "output_type": "display_data"
    }
   ],
   "source": [
    "x_axis = range(1,3)\n",
    "plt.plot(x_axis, train_score_list, c = 'g', label = 'Train Score')\n",
    "plt.plot(x_axis, test_score_list, c = 'b', label = 'Test Score')\n",
    "plt.xlabel('degree')\n",
    "plt.ylabel('accuracy')\n",
    "plt.legend()"
   ]
  },
  {
   "cell_type": "code",
   "execution_count": 35,
   "metadata": {},
   "outputs": [
    {
     "name": "stdout",
     "output_type": "stream",
     "text": [
      "Train score: 59.3518 %\n",
      "Test score: 55.8134 %\n",
      "RMSE: 0.4367\n",
      "R2 score: 0.5581\n"
     ]
    }
   ],
   "source": [
    "poly = PolynomialFeatures(1)\n",
    "X_train_poly = poly.fit_transform(X_train)\n",
    "X_test_poly = poly.transform(X_test)\n",
    "regressor_poly.fit(X_train_poly, y_train)\n",
    "\n",
    "y_poly=regressor_poly.predict(X_test_poly)\n",
    "\n",
    "print('Train score: {:.4f} %'.format(regressor_poly.score(X_train_poly, y_train)*100))\n",
    "print('Test score: {:.4f} %'.format(regressor_poly.score(X_test_poly, y_test)*100))\n",
    "\n",
    "print('RMSE: {:.4f}'.format(np.sqrt(mean_squared_error(y_test,y_poly))))\n",
    "print('R2 score: {:.4f}'.format(r2_score(y_test,y_poly)))"
   ]
  },
  {
   "cell_type": "markdown",
   "metadata": {},
   "source": [
    "### Cross validation"
   ]
  },
  {
   "cell_type": "code",
   "execution_count": 36,
   "metadata": {},
   "outputs": [
    {
     "name": "stdout",
     "output_type": "stream",
     "text": [
      "Cross-validation scores: [0.61271884 0.58457007 0.55727067 0.63792959 0.53107396]\n",
      "Average cross-validation  training score: 0.58\n"
     ]
    }
   ],
   "source": [
    "scores = cross_val_score(regressor_poly, X_train,y_train,cv=5)\n",
    "print(\"Cross-validation scores: {}\".format(scores))\n",
    "print(\"Average cross-validation  training score: {:.2f}\".format(scores.mean()))"
   ]
  },
  {
   "cell_type": "code",
   "execution_count": 37,
   "metadata": {},
   "outputs": [
    {
     "name": "stdout",
     "output_type": "stream",
     "text": [
      "Cross-validation scores: [0.47920949 0.5323787  0.57204929 0.55555684 0.60531863]\n",
      "Average cross-validation  test score: 0.55\n"
     ]
    }
   ],
   "source": [
    "scores = cross_val_score(regressor_poly, X_test,y_test,cv=5)\n",
    "print(\"Cross-validation scores: {}\".format(scores))\n",
    "print(\"Average cross-validation  test score: {:.2f}\".format(scores.mean()))"
   ]
  },
  {
   "cell_type": "markdown",
   "metadata": {},
   "source": [
    "### Grid Search on Polynomial"
   ]
  },
  {
   "cell_type": "code",
   "execution_count": 38,
   "metadata": {},
   "outputs": [
    {
     "name": "stdout",
     "output_type": "stream",
     "text": [
      "{'degree': 1, 'include_bias': True, 'interaction_only': False, 'order': 'C'}\n"
     ]
    }
   ],
   "source": [
    "from pprint import pprint\n",
    "pprint(poly.get_params())"
   ]
  },
  {
   "cell_type": "code",
   "execution_count": 39,
   "metadata": {},
   "outputs": [
    {
     "name": "stdout",
     "output_type": "stream",
     "text": [
      "Fitting 5 folds for each of 8 candidates, totalling 40 fits\n"
     ]
    },
    {
     "name": "stderr",
     "output_type": "stream",
     "text": [
      "[Parallel(n_jobs=-1)]: Using backend LokyBackend with 8 concurrent workers.\n"
     ]
    },
    {
     "name": "stdout",
     "output_type": "stream",
     "text": [
      "{'copy_X': True, 'fit_intercept': True, 'normalize': True}\n"
     ]
    },
    {
     "name": "stderr",
     "output_type": "stream",
     "text": [
      "[Parallel(n_jobs=-1)]: Done  40 out of  40 | elapsed:    0.1s finished\n"
     ]
    }
   ],
   "source": [
    "#degrees = np.arange(1, 25)\n",
    "param_grid_poly = { 'fit_intercept':[True,False], 'normalize':[True,False], 'copy_X':[True, False] }\n",
    "CrossValidation_poly = GridSearchCV(regressor_poly,cv=5 ,param_grid=param_grid_poly, verbose=1, n_jobs=-1, scoring= None)\n",
    "CrossValidation_poly.fit(X_train, y_train)\n",
    "\n",
    "best_parameters_poly=CrossValidation_poly.best_params_\n",
    "print(best_parameters_poly)\n"
   ]
  },
  {
   "cell_type": "code",
   "execution_count": 40,
   "metadata": {},
   "outputs": [
    {
     "name": "stdout",
     "output_type": "stream",
     "text": [
      "Train score: 59.3518 %\n",
      "Test score: 55.8134 %\n",
      "RMSE: 0.4367\n",
      "R2 score: 0.5581\n"
     ]
    }
   ],
   "source": [
    "poly = PolynomialFeatures(1)\n",
    "X_train_poly = poly.fit_transform(X_train)\n",
    "X_test_poly = poly.transform(X_test)\n",
    "regressor_poly=LinearRegression(copy_X= True,fit_intercept=True,normalize =True)\n",
    "regressor_poly.fit(X_train_poly, y_train)\n",
    "\n",
    "y_pred_poly=regressor_poly.predict(X_test_poly)\n",
    "\n",
    "print('Train score: {:.4f} %'.format(regressor_poly.score(X_train_poly, y_train)*100))\n",
    "print('Test score: {:.4f} %'.format(regressor_poly.score(X_test_poly, y_test)*100))\n",
    "\n",
    "print('RMSE: {:.4f}'.format(np.sqrt(mean_squared_error(y_test,y_pred_poly))))\n",
    "print('R2 score: {:.4f}'.format(r2_score(y_test,y_pred_poly)))"
   ]
  },
  {
   "cell_type": "markdown",
   "metadata": {},
   "source": [
    "# Model 3 KNN Regressor"
   ]
  },
  {
   "cell_type": "code",
   "execution_count": 41,
   "metadata": {},
   "outputs": [],
   "source": [
    "from sklearn.neighbors import KNeighborsRegressor\n",
    "sns.set(rc={'figure.figsize':(15,12)})\n",
    "\n",
    "train_score_array = []\n",
    "test_score_array = []\n",
    "\n",
    "for k in range(1,20):\n",
    "    knn = KNeighborsRegressor(k)\n",
    "    knn.fit(X_train, y_train)\n",
    "    train_score_array.append(knn.score(X_train, y_train))\n",
    "    test_score_array.append(knn.score(X_test, y_test)) \n",
    "    "
   ]
  },
  {
   "cell_type": "code",
   "execution_count": 42,
   "metadata": {},
   "outputs": [
    {
     "data": {
      "text/plain": [
       "Text(0, 0.5, 'MSE')"
      ]
     },
     "execution_count": 42,
     "metadata": {},
     "output_type": "execute_result"
    },
    {
     "data": {
      "image/png": "[encoded data removed]",
      "text/plain": [
       "<Figure size 1080x864 with 1 Axes>"
      ]
     },
     "metadata": {},
     "output_type": "display_data"
    }
   ],
   "source": [
    "x_axis = range(1,20)\n",
    "plt.plot(x_axis, train_score_array, c = 'g', label = 'Train Score')\n",
    "plt.plot(x_axis, test_score_array, c = 'b', label = 'Test Score')\n",
    "plt.legend()\n",
    "plt.xlabel('K Value')\n",
    "plt.ylabel('MSE')"
   ]
  },
  {
   "cell_type": "code",
   "execution_count": 43,
   "metadata": {},
   "outputs": [
    {
     "name": "stdout",
     "output_type": "stream",
     "text": [
      "KNN train score: 65.1356 %\n",
      "KNN test score: 57.8198 %\n"
     ]
    }
   ],
   "source": [
    "knn = KNeighborsRegressor(13)\n",
    "knn.fit(X_train, y_train)\n",
    "\n",
    "print(\"KNN train score: {:.4f} %\".format(knn.score(X_train, y_train)*100))\n",
    "print(\"KNN test score: {:.4f} %\".format(knn.score(X_test, y_test)*100))"
   ]
  },
  {
   "cell_type": "markdown",
   "metadata": {},
   "source": [
    "### Cross Validation"
   ]
  },
  {
   "cell_type": "code",
   "execution_count": 44,
   "metadata": {},
   "outputs": [
    {
     "name": "stdout",
     "output_type": "stream",
     "text": [
      "Cross-validation scores: [0.60047531 0.60528772 0.53131558 0.60404943 0.55790808]\n",
      "Average cross-validation score: 0.58\n"
     ]
    }
   ],
   "source": [
    "scores_knn = cross_val_score(knn, X_train,y_train,cv=5,n_jobs=-1)\n",
    "print(\"Cross-validation scores: {}\".format(scores_knn))\n",
    "print(\"Average cross-validation score: {:.2f}\".format(scores_knn.mean()))"
   ]
  },
  {
   "cell_type": "code",
   "execution_count": 45,
   "metadata": {},
   "outputs": [
    {
     "name": "stdout",
     "output_type": "stream",
     "text": [
      "Cross-validation scores: [0.51479579 0.52129495 0.51543584 0.54656202 0.54752316]\n",
      "Average cross-validation score: 0.53\n"
     ]
    }
   ],
   "source": [
    "scores_knn = cross_val_score(knn, X_test,y_test,cv=5,n_jobs=-1)\n",
    "print(\"Cross-validation scores: {}\".format(scores_knn))\n",
    "print(\"Average cross-validation score: {:.2f}\".format(scores_knn.mean()))"
   ]
  },
  {
   "cell_type": "markdown",
   "metadata": {},
   "source": [
    "### Applying grid on KNN"
   ]
  },
  {
   "cell_type": "code",
   "execution_count": 46,
   "metadata": {},
   "outputs": [
    {
     "name": "stdout",
     "output_type": "stream",
     "text": [
      "{'algorithm': 'auto',\n",
      " 'leaf_size': 30,\n",
      " 'metric': 'minkowski',\n",
      " 'metric_params': None,\n",
      " 'n_jobs': None,\n",
      " 'n_neighbors': 13,\n",
      " 'p': 2,\n",
      " 'weights': 'uniform'}\n"
     ]
    }
   ],
   "source": [
    "from pprint import pprint\n",
    "pprint(knn.get_params())"
   ]
  },
  {
   "cell_type": "code",
   "execution_count": 47,
   "metadata": {},
   "outputs": [
    {
     "name": "stdout",
     "output_type": "stream",
     "text": [
      "Fitting 3 folds for each of 160 candidates, totalling 480 fits\n"
     ]
    },
    {
     "name": "stderr",
     "output_type": "stream",
     "text": [
      "[Parallel(n_jobs=-1)]: Using backend LokyBackend with 8 concurrent workers.\n",
      "[Parallel(n_jobs=-1)]: Done  34 tasks      | elapsed:    1.6s\n",
      "[Parallel(n_jobs=-1)]: Done 184 tasks      | elapsed:   10.5s\n",
      "[Parallel(n_jobs=-1)]: Done 434 tasks      | elapsed:   25.6s\n"
     ]
    },
    {
     "name": "stdout",
     "output_type": "stream",
     "text": [
      "{'algorithm': 'auto', 'n_neighbors': 13, 'p': 1, 'weights': 'distance'}\n"
     ]
    },
    {
     "name": "stderr",
     "output_type": "stream",
     "text": [
      "[Parallel(n_jobs=-1)]: Done 480 out of 480 | elapsed:   28.6s finished\n"
     ]
    }
   ],
   "source": [
    "param_grid_knn = {\n",
    "            'n_neighbors' : [*range(1,20,2)],\n",
    "            'p': [1,2],\n",
    "            'weights': ['distance','uniform'],\n",
    "            'algorithm': ['auto', 'ball_tree', 'kd_tree', 'brute']\n",
    "            }\n",
    "\n",
    "CrossValidation_knn = GridSearchCV(estimator =knn, param_grid = param_grid_knn , return_train_score=True, verbose = 1, n_jobs = -1)\n",
    "CrossValidation_knn.fit(X_train, y_train)\n",
    "\n",
    "best_parameters_knn=CrossValidation_knn.best_params_\n",
    "print(best_parameters_knn)"
   ]
  },
  {
   "cell_type": "code",
   "execution_count": 48,
   "metadata": {},
   "outputs": [
    {
     "name": "stdout",
     "output_type": "stream",
     "text": [
      "Train score: 100.0000 %\n",
      "Test score: 57.8336 %\n",
      "RMSE: 0.4266\n",
      "r2_score: 0.5783\n"
     ]
    }
   ],
   "source": [
    "knn =KNeighborsRegressor(n_neighbors=13,weights='distance',algorithm='auto',p=1)\n",
    "\n",
    "knn.fit(X_train, y_train)\n",
    "\n",
    "y_pred_knn=knn.predict(X_test)\n",
    "\n",
    "print('Train score: {:.4f} %'.format(knn.score(X_train, y_train)*100))\n",
    "print('Test score: {:.4f} %'.format(knn.score(X_test, y_test)*100))\n",
    "\n",
    "print('RMSE: {:.4f}'.format(np.sqrt(mean_squared_error(y_test,y_pred_knn))))\n",
    "print('r2_score: {:.4f}'.format(r2_score(y_test,y_pred_knn)))"
   ]
  },
  {
   "cell_type": "markdown",
   "metadata": {},
   "source": [
    "# Model 4 Ridge Regressor"
   ]
  },
  {
   "cell_type": "code",
   "execution_count": 49,
   "metadata": {},
   "outputs": [],
   "source": [
    "from  sklearn.linear_model import Ridge\n",
    "x_range = [0.01, 0.1, 1, 10, 100]\n",
    "train_score_list = []\n",
    "test_score_list = []\n",
    "\n",
    "for alpha in x_range: \n",
    "    ridge = Ridge(alpha)\n",
    "    ridge.fit(X_train,y_train)\n",
    "    train_score_list.append(ridge.score(X_train,y_train))\n",
    "    test_score_list.append(ridge.score(X_test, y_test))"
   ]
  },
  {
   "cell_type": "code",
   "execution_count": 50,
   "metadata": {},
   "outputs": [
    {
     "data": {
      "text/plain": [
       "Text(0.5, 0, 'Hyperparameter:alpha')"
      ]
     },
     "execution_count": 50,
     "metadata": {},
     "output_type": "execute_result"
    },
    {
     "data": {
      "image/png": "[encoded data removed]",
      "text/plain": [
       "<Figure size 1080x864 with 1 Axes>"
      ]
     },
     "metadata": {},
     "output_type": "display_data"
    }
   ],
   "source": [
    "%matplotlib inline\n",
    "sns.set(rc={'figure.figsize':(15,12)})\n",
    "\n",
    "plt.plot(x_range, train_score_list, c = 'g', label = 'Train Score')\n",
    "plt.plot(x_range, test_score_list, c = 'b', label = 'Test Score')\n",
    "plt.xscale('log')\n",
    "plt.legend(loc = 3)\n",
    "plt.xlabel('Hyperparameter:alpha')"
   ]
  },
  {
   "cell_type": "code",
   "execution_count": 51,
   "metadata": {},
   "outputs": [],
   "source": [
    "#It seems like alpha = 10 is the best paramter for Ridge model"
   ]
  },
  {
   "cell_type": "code",
   "execution_count": 52,
   "metadata": {
    "scrolled": true
   },
   "outputs": [
    {
     "name": "stdout",
     "output_type": "stream",
     "text": [
      "Train score on best parameters for Ridge regressor 0.586\n",
      "Test score on best parameters for Ridge regressor 0.555\n"
     ]
    }
   ],
   "source": [
    "ridge = Ridge(alpha=10)\n",
    "ridge.fit(X_train, y_train)\n",
    "print('Train score on best parameters for Ridge regressor {:.3f}'.format(ridge.score(X_train,y_train)))\n",
    "print('Test score on best parameters for Ridge regressor {:.3f}'.format(ridge.score(X_test,y_test)))"
   ]
  },
  {
   "cell_type": "markdown",
   "metadata": {},
   "source": [
    "### Cross Validation"
   ]
  },
  {
   "cell_type": "code",
   "execution_count": 53,
   "metadata": {},
   "outputs": [
    {
     "name": "stdout",
     "output_type": "stream",
     "text": [
      "Cross-validation scores: [0.59861954 0.58404166 0.54325297 0.61873494 0.53535931]\n",
      "Average cross-validation training score: 0.58\n"
     ]
    }
   ],
   "source": [
    "scores_ridge = cross_val_score(ridge, X_train,y_train,cv=5)\n",
    "print(\"Cross-validation scores: {}\".format(scores_ridge))\n",
    "print(\"Average cross-validation training score: {:.2f}\".format(scores_ridge.mean()))"
   ]
  },
  {
   "cell_type": "code",
   "execution_count": 54,
   "metadata": {},
   "outputs": [
    {
     "name": "stdout",
     "output_type": "stream",
     "text": [
      "Cross-validation scores: [0.48819652 0.50246381 0.52388928 0.54154802 0.56867757]\n",
      "Average cross-validation test score: 0.52\n"
     ]
    }
   ],
   "source": [
    "scores_ridge = cross_val_score(ridge, X_test,y_test,cv=5)\n",
    "print(\"Cross-validation scores: {}\".format(scores_ridge))\n",
    "print(\"Average cross-validation test score: {:.2f}\".format(scores_ridge.mean()))"
   ]
  },
  {
   "cell_type": "markdown",
   "metadata": {},
   "source": [
    "### Applying gridSearch"
   ]
  },
  {
   "cell_type": "code",
   "execution_count": 55,
   "metadata": {},
   "outputs": [
    {
     "name": "stdout",
     "output_type": "stream",
     "text": [
      "{'alpha': 10,\n",
      " 'copy_X': True,\n",
      " 'fit_intercept': True,\n",
      " 'max_iter': None,\n",
      " 'normalize': False,\n",
      " 'random_state': None,\n",
      " 'solver': 'auto',\n",
      " 'tol': 0.001}\n"
     ]
    }
   ],
   "source": [
    "from pprint import pprint\n",
    "pprint(ridge.get_params())"
   ]
  },
  {
   "cell_type": "code",
   "execution_count": 56,
   "metadata": {},
   "outputs": [
    {
     "name": "stdout",
     "output_type": "stream",
     "text": [
      "Fitting 3 folds for each of 28 candidates, totalling 84 fits\n"
     ]
    },
    {
     "name": "stderr",
     "output_type": "stream",
     "text": [
      "[Parallel(n_jobs=-1)]: Using backend LokyBackend with 8 concurrent workers.\n"
     ]
    },
    {
     "name": "stdout",
     "output_type": "stream",
     "text": [
      "{'alpha': 0.01, 'fit_intercept': True, 'normalize': True}\n"
     ]
    },
    {
     "name": "stderr",
     "output_type": "stream",
     "text": [
      "[Parallel(n_jobs=-1)]: Done  84 out of  84 | elapsed:    0.2s finished\n"
     ]
    }
   ],
   "source": [
    "param_grid_ridge = { 'alpha': [0.001, 0.01, 0.1, 1, 10, 100, 1000],'fit_intercept': [True,False],'normalize': [True,False]}\n",
    "            \n",
    "CrossValidation_ridge = GridSearchCV(estimator =ridge, param_grid = param_grid_ridge , return_train_score=True, verbose = 1, n_jobs = -1)\n",
    "CrossValidation_ridge.fit(X_train, y_train)\n",
    "\n",
    "best_parameters_ridge=CrossValidation_ridge.best_params_\n",
    "print(best_parameters_ridge)"
   ]
  },
  {
   "cell_type": "code",
   "execution_count": 57,
   "metadata": {},
   "outputs": [
    {
     "name": "stdout",
     "output_type": "stream",
     "text": [
      "Train score: 59.3526 %\n",
      "Test score: 55.8572 %\n",
      "RMSE: 0.4364\n",
      "r2_score: 0.5586\n"
     ]
    }
   ],
   "source": [
    "ridge = Ridge(alpha = 0.01,fit_intercept= True, normalize= True)\n",
    "ridge.fit(X_train,y_train)\n",
    "\n",
    "y_pred_ridge=ridge.predict(X_test)\n",
    "\n",
    "print('Train score: {:.4f} %'.format(ridge.score(X_train, y_train)*100))\n",
    "print('Test score: {:.4f} %'.format(ridge.score(X_test, y_test)*100))\n",
    "print('RMSE: {:.4f}'.format(np.sqrt(mean_squared_error(y_test,y_pred_ridge))))\n",
    "print('r2_score: {:.4f}'.format(r2_score(y_test,y_pred_ridge)))"
   ]
  },
  {
   "cell_type": "markdown",
   "metadata": {},
   "source": [
    "# Model 5  Lasso Regressor"
   ]
  },
  {
   "cell_type": "code",
   "execution_count": 58,
   "metadata": {},
   "outputs": [],
   "source": [
    "from  sklearn.linear_model import Lasso\n",
    "x_range = [0.001,0.01, 0.1, 1, 10, 100]\n",
    "train_score_list = []\n",
    "test_score_list = []\n",
    "\n",
    "for alpha in x_range: \n",
    "    lasso = Lasso(alpha)\n",
    "    lasso.fit(X_train,y_train)\n",
    "    train_score_list.append(lasso.score(X_train,y_train))\n",
    "    test_score_list.append(lasso.score(X_test, y_test))"
   ]
  },
  {
   "cell_type": "code",
   "execution_count": 59,
   "metadata": {},
   "outputs": [
    {
     "name": "stdout",
     "output_type": "stream",
     "text": [
      "[0.5894568772576743, 0.51476845224113, 0.33509663170147763, 0.0, 0.0, 0.0]\n",
      "[0.5567357067409793, 0.49214971544010444, 0.32405187500526866, -0.007926470293011079, -0.007926470293011079, -0.007926470293011079]\n"
     ]
    }
   ],
   "source": [
    "print(train_score_list)\n",
    "print(test_score_list)"
   ]
  },
  {
   "cell_type": "code",
   "execution_count": 60,
   "metadata": {},
   "outputs": [
    {
     "data": {
      "text/plain": [
       "Text(0.5, 0, '$\\\\alpha$')"
      ]
     },
     "execution_count": 60,
     "metadata": {},
     "output_type": "execute_result"
    },
    {
     "data": {
      "image/png": "[encoded data removed]",
      "text/plain": [
       "<Figure size 1080x864 with 1 Axes>"
      ]
     },
     "metadata": {},
     "output_type": "display_data"
    }
   ],
   "source": [
    "plt.plot(x_range, train_score_list, c = 'g', label = 'Train Score')\n",
    "plt.plot(x_range, test_score_list, c = 'b', label = 'Test Score')\n",
    "plt.xscale('log')\n",
    "plt.legend(loc = 3)\n",
    "plt.xlabel(r'$\\alpha$')"
   ]
  },
  {
   "cell_type": "code",
   "execution_count": 61,
   "metadata": {},
   "outputs": [],
   "source": [
    "#alpha=1 is the best hyper parameter for Lasso"
   ]
  },
  {
   "cell_type": "code",
   "execution_count": 62,
   "metadata": {},
   "outputs": [
    {
     "name": "stdout",
     "output_type": "stream",
     "text": [
      "Train score on best parameters for Lasso regressor 0.000\n",
      "Test score on best parameters for Lasso regressor -0.008\n"
     ]
    }
   ],
   "source": [
    "lasso = Lasso(alpha=1)\n",
    "lasso.fit(X_train, y_train)\n",
    "print('Train score on best parameters for Lasso regressor {:.3f}'.format(lasso.score(X_train,y_train)))\n",
    "print('Test score on best parameters for Lasso regressor {:.3f}'.format(lasso.score(X_test,y_test)))"
   ]
  },
  {
   "cell_type": "markdown",
   "metadata": {},
   "source": [
    "### Cross Validation"
   ]
  },
  {
   "cell_type": "code",
   "execution_count": 63,
   "metadata": {
    "scrolled": true
   },
   "outputs": [
    {
     "name": "stdout",
     "output_type": "stream",
     "text": [
      "Cross-validation scores: [-1.81393791e-04 -3.14820700e-03 -1.43724299e-03 -2.73462216e-05\n",
      " -8.59728552e-05]\n",
      "Average cross-validation training score: -0.00\n"
     ]
    }
   ],
   "source": [
    "scores_lasso = cross_val_score(lasso, X_train,y_train,cv=5)\n",
    "print(\"Cross-validation scores: {}\".format(scores_lasso))\n",
    "print(\"Average cross-validation training score: {:.2f}\".format(scores_lasso.mean()))"
   ]
  },
  {
   "cell_type": "code",
   "execution_count": 64,
   "metadata": {},
   "outputs": [
    {
     "name": "stdout",
     "output_type": "stream",
     "text": [
      "Cross-validation scores: [-2.63566378e-05 -2.91881371e-03 -8.00693490e-03 -1.12919375e-03\n",
      " -3.14436402e-02]\n",
      "Average cross-validation test score: -0.01\n"
     ]
    }
   ],
   "source": [
    "scores_lasso = cross_val_score(lasso, X_test,y_test,cv=5)\n",
    "print(\"Cross-validation scores: {}\".format(scores_lasso))\n",
    "print(\"Average cross-validation test score: {:.2f}\".format(scores_lasso.mean()))"
   ]
  },
  {
   "cell_type": "markdown",
   "metadata": {},
   "source": [
    "### Applying Grid"
   ]
  },
  {
   "cell_type": "code",
   "execution_count": 65,
   "metadata": {},
   "outputs": [
    {
     "name": "stdout",
     "output_type": "stream",
     "text": [
      "{'alpha': 1,\n",
      " 'copy_X': True,\n",
      " 'fit_intercept': True,\n",
      " 'max_iter': 1000,\n",
      " 'normalize': False,\n",
      " 'positive': False,\n",
      " 'precompute': False,\n",
      " 'random_state': None,\n",
      " 'selection': 'cyclic',\n",
      " 'tol': 0.0001,\n",
      " 'warm_start': False}\n"
     ]
    }
   ],
   "source": [
    "from pprint import pprint\n",
    "pprint(lasso.get_params())"
   ]
  },
  {
   "cell_type": "code",
   "execution_count": 66,
   "metadata": {},
   "outputs": [
    {
     "name": "stdout",
     "output_type": "stream",
     "text": [
      "Fitting 3 folds for each of 28 candidates, totalling 84 fits\n"
     ]
    },
    {
     "name": "stderr",
     "output_type": "stream",
     "text": [
      "[Parallel(n_jobs=-1)]: Using backend LokyBackend with 8 concurrent workers.\n"
     ]
    },
    {
     "name": "stdout",
     "output_type": "stream",
     "text": [
      "{'alpha': 0.001, 'fit_intercept': True, 'normalize': False}\n"
     ]
    },
    {
     "name": "stderr",
     "output_type": "stream",
     "text": [
      "[Parallel(n_jobs=-1)]: Done  84 out of  84 | elapsed:    0.3s finished\n"
     ]
    }
   ],
   "source": [
    "param_grid_lasso = {'alpha': [0.001, 0.01, 0.1, 1, 10, 100, 1000],'fit_intercept': [True,False], 'normalize': [True,False]}\n",
    "            \n",
    "CrossValidation_lasso = GridSearchCV(estimator =lasso, param_grid = param_grid_ridge , return_train_score=True, verbose = 1, n_jobs = -1)\n",
    "CrossValidation_lasso.fit(X_train, y_train)\n",
    "\n",
    "best_parameters_lasso=CrossValidation_lasso.best_params_\n",
    "print(best_parameters_lasso)"
   ]
  },
  {
   "cell_type": "code",
   "execution_count": 67,
   "metadata": {},
   "outputs": [
    {
     "name": "stdout",
     "output_type": "stream",
     "text": [
      "Train score: 58.9457 %\n",
      "Test score: 55.6736 %\n",
      "RMSE: 0.4373\n",
      "r2_score: 0.5567\n"
     ]
    }
   ],
   "source": [
    "lasso = Lasso(alpha = 0.001,fit_intercept = True, normalize = False)\n",
    "lasso.fit(X_train,y_train)\n",
    "\n",
    "y_pred_lasso=lasso.predict(X_test)\n",
    "\n",
    "print('Train score: {:.4f} %'.format(lasso.score(X_train, y_train)*100))\n",
    "print('Test score: {:.4f} %'.format(lasso.score(X_test, y_test)*100))\n",
    "\n",
    "print('RMSE: {:.4f}'.format(np.sqrt(mean_squared_error(y_test,y_pred_lasso))))\n",
    "print('r2_score: {:.4f}'.format(r2_score(y_test,y_pred_lasso)))"
   ]
  },
  {
   "cell_type": "markdown",
   "metadata": {},
   "source": [
    "# Model 6 Support Vector Machine Regressor"
   ]
  },
  {
   "cell_type": "code",
   "execution_count": 68,
   "metadata": {},
   "outputs": [
    {
     "name": "stdout",
     "output_type": "stream",
     "text": [
      "[0.5166459860093444, 0.27422181736984486, 0.3068518056313013, -1.6126590698436907, 0.49664474026712846, 0.4328308711141571, 0.260058461777423, 0.2553699454914681, 0.32657751396989076]\n",
      "[0.4806355376667446, 0.2786017467594437, 0.3318618931184888, -1.4733760920381838, 0.4800987206655124, 0.3784583015163554, 0.27747229215063896, 0.1730624533476226, 0.2997933873769396]\n"
     ]
    }
   ],
   "source": [
    "sns.set(rc={'figure.figsize':(15,12)})\n",
    "linear_svm = LinearSVR()\n",
    "\n",
    "linear_svm.fit(X_train, y_train)\n",
    "y_pred=linear_svm.predict(X_test)\n",
    "\n",
    "trainscore_array = []\n",
    "testscore_array = []\n",
    "\n",
    "for n in range(1,10):\n",
    "    linear_svm = LinearSVR(max_iter=n)\n",
    "    linear_svm.fit(X_train, y_train)\n",
    "    trainscore_array.append(linear_svm.score(X_train, y_train))\n",
    "    testscore_array.append(linear_svm.score(X_test, y_test))\n",
    "print(trainscore_array)\n",
    "print(testscore_array)"
   ]
  },
  {
   "cell_type": "code",
   "execution_count": 69,
   "metadata": {},
   "outputs": [
    {
     "data": {
      "text/plain": [
       "Text(0, 0.5, 'Score')"
      ]
     },
     "execution_count": 69,
     "metadata": {},
     "output_type": "execute_result"
    },
    {
     "data": {
      "image/png": "[encoded data removed]",
      "text/plain": [
       "<Figure size 1080x864 with 1 Axes>"
      ]
     },
     "metadata": {},
     "output_type": "display_data"
    }
   ],
   "source": [
    "x_axis = range(1,10)\n",
    "plt.plot(x_axis, trainscore_array, c = 'g', label = 'Train Score')\n",
    "plt.plot(x_axis, testscore_array, c = 'b', label = 'Test Score')\n",
    "plt.legend()\n",
    "plt.xlabel('Max Iterations')\n",
    "plt.ylabel('Score')"
   ]
  },
  {
   "cell_type": "code",
   "execution_count": 70,
   "metadata": {},
   "outputs": [],
   "source": [
    "#It seems max_iter =7 is the best hyperparameter for Linear Support Vector Machineb"
   ]
  },
  {
   "cell_type": "code",
   "execution_count": 71,
   "metadata": {},
   "outputs": [
    {
     "name": "stdout",
     "output_type": "stream",
     "text": [
      "Train score: 42.9716 %\n",
      "Test score: 43.8059 %\n",
      "RMSE: 0.4924\n",
      "r2_score: 0.4381\n"
     ]
    }
   ],
   "source": [
    "linear_svm = LinearSVR(max_iter=7)\n",
    "linear_svm.fit(X_train, y_train)\n",
    "\n",
    "y_pred_svm=linear_svm.predict(X_test)\n",
    "\n",
    "print('Train score: {:.4f} %'.format(linear_svm.score(X_train, y_train)*100))\n",
    "print('Test score: {:.4f} %'.format(linear_svm.score(X_test, y_test)*100))\n",
    "\n",
    "print('RMSE: {:.4f}'.format(np.sqrt(mean_squared_error(y_test,y_pred_svm))))\n",
    "print('r2_score: {:.4f}'.format(r2_score(y_test,y_pred_svm)))"
   ]
  },
  {
   "cell_type": "markdown",
   "metadata": {},
   "source": [
    "### Using cross validation for Linear SVM to find average training and test scores"
   ]
  },
  {
   "cell_type": "code",
   "execution_count": 72,
   "metadata": {},
   "outputs": [
    {
     "name": "stdout",
     "output_type": "stream",
     "text": [
      "Cross-validation scores: [0.41646172 0.48301602 0.04181395 0.45078581 0.39785818]\n",
      "Average cross-validation training score: 0.36\n"
     ]
    }
   ],
   "source": [
    "scores_SVM = cross_val_score(linear_svm, X_train,y_train,cv=5)\n",
    "print(\"Cross-validation scores: {}\".format(scores_SVM))\n",
    "print(\"Average cross-validation training score: {:.2f}\".format(scores_SVM.mean()))"
   ]
  },
  {
   "cell_type": "code",
   "execution_count": 73,
   "metadata": {},
   "outputs": [
    {
     "name": "stdout",
     "output_type": "stream",
     "text": [
      "Cross-validation scores: [0.55679695 0.36391144 0.47046991 0.55630843 0.2397828 ]\n",
      "Average cross-validation training score: 0.44\n"
     ]
    }
   ],
   "source": [
    "scores_SVM = cross_val_score(linear_svm, X_train,y_train,cv=5)\n",
    "print(\"Cross-validation scores: {}\".format(scores_SVM))\n",
    "print(\"Average cross-validation training score: {:.2f}\".format(scores_SVM.mean()))"
   ]
  },
  {
   "cell_type": "markdown",
   "metadata": {},
   "source": [
    "### Applying Grid Search to Linear SVM"
   ]
  },
  {
   "cell_type": "code",
   "execution_count": 74,
   "metadata": {},
   "outputs": [
    {
     "name": "stdout",
     "output_type": "stream",
     "text": [
      "{'C': 1.0,\n",
      " 'dual': True,\n",
      " 'epsilon': 0.0,\n",
      " 'fit_intercept': True,\n",
      " 'intercept_scaling': 1.0,\n",
      " 'loss': 'epsilon_insensitive',\n",
      " 'max_iter': 7,\n",
      " 'random_state': None,\n",
      " 'tol': 0.0001,\n",
      " 'verbose': 0}\n"
     ]
    }
   ],
   "source": [
    "from pprint import pprint\n",
    "pprint(linear_svm.get_params())"
   ]
  },
  {
   "cell_type": "code",
   "execution_count": 75,
   "metadata": {},
   "outputs": [
    {
     "name": "stdout",
     "output_type": "stream",
     "text": [
      "Fitting 3 folds for each of 9 candidates, totalling 27 fits\n"
     ]
    },
    {
     "name": "stderr",
     "output_type": "stream",
     "text": [
      "[Parallel(n_jobs=-1)]: Using backend LokyBackend with 8 concurrent workers.\n",
      "[Parallel(n_jobs=-1)]: Done  12 out of  27 | elapsed:    0.0s remaining:    0.0s\n"
     ]
    },
    {
     "name": "stdout",
     "output_type": "stream",
     "text": [
      "{'max_iter': 7}\n"
     ]
    },
    {
     "name": "stderr",
     "output_type": "stream",
     "text": [
      "[Parallel(n_jobs=-1)]: Done  27 out of  27 | elapsed:    0.1s finished\n"
     ]
    }
   ],
   "source": [
    "param_grid_linearsvm = {\n",
    "            'max_iter' : range(1,10),\n",
    "            }\n",
    "\n",
    "CV_linearsvm = GridSearchCV(estimator =linear_svm, param_grid = param_grid_linearsvm , return_train_score=True, verbose = 1, n_jobs = -1)\n",
    "CV_linearsvm.fit(X_train, y_train)\n",
    "\n",
    "best_parameters_linearsvm=CV_linearsvm.best_params_\n",
    "print(best_parameters_linearsvm)"
   ]
  },
  {
   "cell_type": "code",
   "execution_count": 76,
   "metadata": {},
   "outputs": [
    {
     "name": "stdout",
     "output_type": "stream",
     "text": [
      "Train score: 36.3434 %\n",
      "Test score: 38.7488 %\n",
      "RMSE: 0.5141\n",
      "r2_score: 0.3875\n"
     ]
    }
   ],
   "source": [
    "linear_svm = LinearSVR(max_iter=7)\n",
    "linear_svm.fit(X_train, y_train)\n",
    "\n",
    "y_pred_svm=linear_svm.predict(X_test)\n",
    "\n",
    "print('Train score: {:.4f} %'.format(linear_svm.score(X_train, y_train)*100))\n",
    "print('Test score: {:.4f} %'.format(linear_svm.score(X_test, y_test)*100))\n",
    "\n",
    "print('RMSE: {:.4f}'.format(np.sqrt(mean_squared_error(y_test,y_pred_svm))))\n",
    "print('r2_score: {:.4f}'.format(r2_score(y_test,y_pred_svm)))"
   ]
  },
  {
   "cell_type": "markdown",
   "metadata": {},
   "source": [
    "### Kernel SVR"
   ]
  },
  {
   "cell_type": "markdown",
   "metadata": {},
   "source": [
    "### Linear"
   ]
  },
  {
   "cell_type": "code",
   "execution_count": 77,
   "metadata": {},
   "outputs": [
    {
     "name": "stdout",
     "output_type": "stream",
     "text": [
      "Parameter grid:\n",
      "{'C': [0.001, 0.01, 0.1, 1, 10, 100], 'gamma': [0.001, 0.01, 0.1, 1, 10, 100]}\n"
     ]
    }
   ],
   "source": [
    "param_grid = {'C': [0.001, 0.01, 0.1, 1, 10, 100],\n",
    "              'gamma': [0.001, 0.01, 0.1, 1, 10, 100]}\n",
    "print(\"Parameter grid:\\n{}\".format(param_grid))"
   ]
  },
  {
   "cell_type": "code",
   "execution_count": 78,
   "metadata": {},
   "outputs": [
    {
     "data": {
      "text/plain": [
       "GridSearchCV(cv=5, error_score='raise-deprecating',\n",
       "             estimator=SVR(C=1.0, cache_size=200, coef0=0.0, degree=3,\n",
       "                           epsilon=0.1, gamma='auto_deprecated',\n",
       "                           kernel='linear', max_iter=-1, shrinking=True,\n",
       "                           tol=0.001, verbose=False),\n",
       "             iid='warn', n_jobs=None,\n",
       "             param_grid={'C': [0.001, 0.01, 0.1, 1, 10, 100],\n",
       "                         'gamma': [0.001, 0.01, 0.1, 1, 10, 100]},\n",
       "             pre_dispatch='2*n_jobs', refit=True, return_train_score=True,\n",
       "             scoring=None, verbose=0)"
      ]
     },
     "execution_count": 78,
     "metadata": {},
     "output_type": "execute_result"
    }
   ],
   "source": [
    "grid_search = GridSearchCV(SVR(kernel='linear'), param_grid, cv=5, return_train_score=True)\n",
    "grid_search.fit(X_train,y_train)"
   ]
  },
  {
   "cell_type": "code",
   "execution_count": 79,
   "metadata": {},
   "outputs": [
    {
     "name": "stdout",
     "output_type": "stream",
     "text": [
      "Best parameters for kernel linear: {'C': 1, 'gamma': 0.001}\n",
      "Best score: 0.58\n"
     ]
    }
   ],
   "source": [
    "print(\"Best parameters for kernel linear: {}\".format(grid_search.best_params_))\n",
    "print(\"Best score: {:.2f}\".format(grid_search.best_score_))"
   ]
  },
  {
   "cell_type": "markdown",
   "metadata": {},
   "source": [
    "### SVR with kernel 'rbf'"
   ]
  },
  {
   "cell_type": "code",
   "execution_count": 80,
   "metadata": {},
   "outputs": [
    {
     "data": {
      "text/plain": [
       "GridSearchCV(cv=5, error_score='raise-deprecating',\n",
       "             estimator=SVR(C=1.0, cache_size=200, coef0=0.0, degree=3,\n",
       "                           epsilon=0.1, gamma='auto_deprecated', kernel='rbf',\n",
       "                           max_iter=-1, shrinking=True, tol=0.001,\n",
       "                           verbose=False),\n",
       "             iid='warn', n_jobs=None,\n",
       "             param_grid={'C': [0.001, 0.01, 0.1, 1, 10, 100],\n",
       "                         'gamma': [0.001, 0.01, 0.1, 1, 10, 100]},\n",
       "             pre_dispatch='2*n_jobs', refit=True, return_train_score=True,\n",
       "             scoring=None, verbose=0)"
      ]
     },
     "execution_count": 80,
     "metadata": {},
     "output_type": "execute_result"
    }
   ],
   "source": [
    "grid_search = GridSearchCV(SVR(kernel='rbf'), param_grid, cv=5, return_train_score=True)\n",
    "grid_search.fit(X_train,y_train)"
   ]
  },
  {
   "cell_type": "code",
   "execution_count": 81,
   "metadata": {},
   "outputs": [
    {
     "name": "stdout",
     "output_type": "stream",
     "text": [
      "Best parameters for kernel rbf: {'C': 10, 'gamma': 0.1}\n",
      "Best cross-validation score: 0.62\n"
     ]
    }
   ],
   "source": [
    "print(\"Best parameters for kernel rbf: {}\".format(grid_search.best_params_))\n",
    "print(\"Best cross-validation score: {:.2f}\".format(grid_search.best_score_))"
   ]
  },
  {
   "cell_type": "markdown",
   "metadata": {},
   "source": [
    "### Applying Cross validation on kernelized SVR"
   ]
  },
  {
   "cell_type": "code",
   "execution_count": 82,
   "metadata": {},
   "outputs": [],
   "source": [
    "best_score=0\n",
    "for gamma in [0.001, 0.01, 0.1, 1, 10, 100]:\n",
    "    for C in [0.001, 0.01, 0.1, 1, 10, 100]:\n",
    "        for kernel in ['linear','rbf']:\n",
    "         svr = SVR(gamma=gamma, C=C,kernel=kernel)\n",
    "         svr.fit(X_train, y_train)\n",
    "         # perform cross-validation\n",
    "         scores = cross_val_score(svr, X_train, y_train, cv=5)\n",
    "         # compute mean cross-validation accuracy\n",
    "         score = np.mean(scores)\n",
    "         # if we got a better score, store the score and parameters\n",
    "         if score > best_score:\n",
    "            best_score = score\n",
    "            best_parameters = {'C': C, 'gamma': gamma,'kernel':kernel}"
   ]
  },
  {
   "cell_type": "code",
   "execution_count": 83,
   "metadata": {},
   "outputs": [
    {
     "name": "stdout",
     "output_type": "stream",
     "text": [
      "best score: 0.62\n"
     ]
    }
   ],
   "source": [
    "print(\"best score: {:.2f}\".format(best_score)) "
   ]
  },
  {
   "cell_type": "markdown",
   "metadata": {},
   "source": [
    "### Applying Grid Search to Kernelized SVR"
   ]
  },
  {
   "cell_type": "code",
   "execution_count": 84,
   "metadata": {},
   "outputs": [
    {
     "name": "stdout",
     "output_type": "stream",
     "text": [
      "Parameter grid:\n",
      "{'C': [0.001, 0.01, 0.1, 1, 10, 100], 'gamma': [0.001, 0.01, 0.1, 1, 10, 100], 'kernel': ['linear', 'rbf']}\n"
     ]
    }
   ],
   "source": [
    "param_grid = {'C': [0.001, 0.01, 0.1, 1, 10, 100],\n",
    "              'gamma': [0.001, 0.01, 0.1, 1, 10, 100],\n",
    "              'kernel':['linear','rbf']}\n",
    "print(\"Parameter grid:\\n{}\".format(param_grid))"
   ]
  },
  {
   "cell_type": "code",
   "execution_count": 85,
   "metadata": {},
   "outputs": [],
   "source": [
    "grid_search = GridSearchCV(SVR(), param_grid, cv=5, return_train_score=True)"
   ]
  },
  {
   "cell_type": "code",
   "execution_count": 86,
   "metadata": {},
   "outputs": [
    {
     "data": {
      "text/plain": [
       "GridSearchCV(cv=5, error_score='raise-deprecating',\n",
       "             estimator=SVR(C=1.0, cache_size=200, coef0=0.0, degree=3,\n",
       "                           epsilon=0.1, gamma='auto_deprecated', kernel='rbf',\n",
       "                           max_iter=-1, shrinking=True, tol=0.001,\n",
       "                           verbose=False),\n",
       "             iid='warn', n_jobs=None,\n",
       "             param_grid={'C': [0.001, 0.01, 0.1, 1, 10, 100],\n",
       "                         'gamma': [0.001, 0.01, 0.1, 1, 10, 100],\n",
       "                         'kernel': ['linear', 'rbf']},\n",
       "             pre_dispatch='2*n_jobs', refit=True, return_train_score=True,\n",
       "             scoring=None, verbose=0)"
      ]
     },
     "execution_count": 86,
     "metadata": {},
     "output_type": "execute_result"
    }
   ],
   "source": [
    "grid_search.fit(X_train, y_train)"
   ]
  },
  {
   "cell_type": "code",
   "execution_count": 87,
   "metadata": {},
   "outputs": [
    {
     "name": "stdout",
     "output_type": "stream",
     "text": [
      "Best parameters: {'C': 10, 'gamma': 0.1, 'kernel': 'rbf'}\n",
      "Best cross-validation score: 0.62\n"
     ]
    }
   ],
   "source": [
    "print(\"Best parameters: {}\".format(grid_search.best_params_))\n",
    "print(\"Best cross-validation score: {:.2f}\".format(grid_search.best_score_))"
   ]
  },
  {
   "cell_type": "code",
   "execution_count": 88,
   "metadata": {},
   "outputs": [
    {
     "name": "stdout",
     "output_type": "stream",
     "text": [
      "Train score: 80.4196 %\n",
      "Test score: 51.6113 %\n",
      "RMSE: 0.4569\n",
      "r2_score: 0.5161\n"
     ]
    }
   ],
   "source": [
    "kernelized_svr = SVR(C=100,gamma=1,kernel ='rbf')\n",
    "kernelized_svr.fit(X_train, y_train)\n",
    "\n",
    "y_pred_kernelizedsvr=kernelized_svr.predict(X_test)\n",
    "\n",
    "print('Train score: {:.4f} %'.format(kernelized_svr.score(X_train, y_train)*100))\n",
    "print('Test score: {:.4f} %'.format(kernelized_svr.score(X_test, y_test)*100))\n",
    "\n",
    "print('RMSE: {:.4f}'.format(np.sqrt(mean_squared_error(y_test,y_pred_kernelizedsvr))))\n",
    "print('r2_score: {:.4f}'.format(r2_score(y_test,y_pred_kernelizedsvr)))"
   ]
  },
  {
   "cell_type": "markdown",
   "metadata": {},
   "source": [
    "# Best Regression Model"
   ]
  },
  {
   "cell_type": "code",
   "execution_count": 89,
   "metadata": {},
   "outputs": [
    {
     "name": "stdout",
     "output_type": "stream",
     "text": [
      "r2 Square score for Linear Regression: 0.5582\n",
      "r2 Square score for  KNN Regressor: 0.5783\n",
      "r2 Square score for  Polynomial Regression: 0.5581\n",
      "r2 Square score for  Ridge Regression: 0.5586\n",
      "r2 Square score for  Lasso Regression: 0.5567\n",
      "r2 Square score for  Linear SVM: 0.3875\n",
      "r2 Square score for  kernelized SVM: 0.5161\n"
     ]
    }
   ],
   "source": [
    "print('r2 Square score for Linear Regression: {:.4f}'.format(r2_score(y_test,y_pred_linear)))\n",
    "print('r2 Square score for  KNN Regressor: {:.4f}'.format(r2_score(y_test,y_pred_knn)))\n",
    "print('r2 Square score for  Polynomial Regression: {:.4f}'.format(r2_score(y_test,y_pred_poly)))\n",
    "print('r2 Square score for  Ridge Regression: {:.4f}'.format(r2_score(y_test,y_pred_ridge)))\n",
    "print('r2 Square score for  Lasso Regression: {:.4f}'.format(r2_score(y_test,y_pred_lasso)))\n",
    "print('r2 Square score for  Linear SVM: {:.4f}'.format(r2_score(y_test,y_pred_svm)))\n",
    "print('r2 Square score for  kernelized SVM: {:.4f}'.format(r2_score(y_test,y_pred_kernelizedsvr)))"
   ]
  },
  {
   "cell_type": "markdown",
   "metadata": {},
   "source": [
    "# Best Model:"
   ]
  },
  {
   "cell_type": "markdown",
   "metadata": {},
   "source": [
    "### Model Comparison through barplots:"
   ]
  },
  {
   "cell_type": "code",
   "execution_count": 90,
   "metadata": {},
   "outputs": [],
   "source": [
    "r2square_Linear = r2_score(y_test,y_pred_linear)\n",
    "r2square_KNN  = r2_score(y_test,y_pred_knn)\n",
    "r2square_Polynomial= r2_score(y_test,y_pred_poly)\n",
    "r2square_Ridge = r2_score(y_test,y_pred_ridge)\n",
    "r2square_Lasso = r2_score(y_test,y_pred_lasso)\n",
    "r2square_LinearSVM = r2_score(y_test,y_pred_svm)\n",
    "r2square_kernelizedSVM = r2_score(y_test,y_pred_kernelizedsvr)"
   ]
  },
  {
   "cell_type": "code",
   "execution_count": 91,
   "metadata": {},
   "outputs": [],
   "source": [
    "RMSE_Linear= np.sqrt(mean_squared_error(y_test,y_pred_linear))\n",
    "RMSE_KNN =np.sqrt(mean_squared_error(y_test,y_pred_knn))\n",
    "RMSE_Polynomial = np.sqrt(mean_squared_error(y_test,y_pred_poly))\n",
    "RMSE_Ridge = np.sqrt(mean_squared_error(y_test,y_pred_ridge))\n",
    "RMSE_Lasso =np.sqrt(mean_squared_error(y_test,y_pred_lasso))\n",
    "RMSE_LinearSVM = np.sqrt(mean_squared_error(y_test,y_pred_svm))\n",
    "RMSE_kernelizedSVM = np.sqrt(mean_squared_error(y_test,y_pred_kernelizedsvr))"
   ]
  },
  {
   "cell_type": "code",
   "execution_count": 92,
   "metadata": {},
   "outputs": [
    {
     "data": {
      "text/plain": [
       "<Figure size 720x720 with 0 Axes>"
      ]
     },
     "metadata": {},
     "output_type": "display_data"
    },
    {
     "data": {
      "image/png": "[encoded data removed]",
      "text/plain": [
       "<Figure size 1080x864 with 1 Axes>"
      ]
     },
     "metadata": {},
     "output_type": "display_data"
    }
   ],
   "source": [
    "import numpy as np\n",
    "import matplotlib.pyplot as plt\n",
    "plt.figure(figsize=(10,10))\n",
    "# data to plot\n",
    "n_groups = 7\n",
    "r2square_score = [r2square_Linear,r2square_KNN,r2square_Polynomial,r2square_Ridge,r2square_Lasso,r2square_LinearSVM,r2square_kernelizedSVM]\n",
    "RMSE_score = [RMSE_Linear,RMSE_KNN,RMSE_Polynomial,RMSE_Ridge,RMSE_Lasso,RMSE_LinearSVM,RMSE_kernelizedSVM]\n",
    "\n",
    "# create plot\n",
    "fig, ax = plt.subplots()\n",
    "index = np.arange(n_groups)\n",
    "bar_width = 0.35\n",
    "opacity = 0.8\n",
    "\n",
    "rects1 = plt.bar(index, r2square_score, bar_width,\n",
    "alpha=opacity,\n",
    "color='b',\n",
    "label='r2_square_score')\n",
    "\n",
    "rects2 = plt.bar(index + bar_width, RMSE_score, bar_width,\n",
    "alpha=opacity,\n",
    "color='g',\n",
    "label='RMSE')\n",
    "\n",
    "plt.xlabel('Model')\n",
    "plt.ylabel('Scores')\n",
    "plt.title('Scores by Model')\n",
    "plt.xticks(index + bar_width, ('Linear', 'Knn','Polynomial','Ridge','Lasso','LinearSVM','kernelizedSVM'))\n",
    "plt.legend()\n",
    "\n",
    "plt.tight_layout()\n",
    "plt.show()"
   ]
  },
  {
   "cell_type": "markdown",
   "metadata": {},
   "source": [
    "# Based on the above accuracy score, the best classification model for our data set is KNN as the Train Accuracy has the highest accuracy score for predicting the value which is followed by Linear Regression"
   ]
  }
 ],
 "metadata": {
  "kernelspec": {
   "display_name": "Python 3",
   "language": "python",
   "name": "python3"
  },
  "language_info": {
   "codemirror_mode": {
    "name": "ipython",
    "version": 3
   },
   "file_extension": ".py",
   "mimetype": "text/x-python",
   "name": "python",
   "nbconvert_exporter": "python",
   "pygments_lexer": "ipython3",
   "version": "3.7.6"
  }
 },
 "nbformat": 4,
 "nbformat_minor": 2
}
